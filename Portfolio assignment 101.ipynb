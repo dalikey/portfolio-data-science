{
 "cells": [
  {
   "cell_type": "markdown",
   "id": "332c71df",
   "metadata": {},
   "source": [
    "# Short report - What is Data Science?\n",
    "Data science is the field of study that combines domain knowledge, programming skills and knowledge of mathematics and statistics to extract meaningful insights from data."
   ]
  },
  {
   "cell_type": "markdown",
   "id": "8f0b0263",
   "metadata": {},
   "source": [
    "## Examples"
   ]
  },
  {
   "cell_type": "code",
   "execution_count": 19,
   "id": "35cda998",
   "metadata": {},
   "outputs": [],
   "source": [
    "# All kinds of insights can be made on data. You can search the D-type, all existing categories and more."
   ]
  },
  {
   "cell_type": "code",
   "execution_count": 20,
   "id": "9d8b8136",
   "metadata": {},
   "outputs": [
    {
     "data": {
      "text/html": [
       "<div>\n",
       "<style scoped>\n",
       "    .dataframe tbody tr th:only-of-type {\n",
       "        vertical-align: middle;\n",
       "    }\n",
       "\n",
       "    .dataframe tbody tr th {\n",
       "        vertical-align: top;\n",
       "    }\n",
       "\n",
       "    .dataframe thead th {\n",
       "        text-align: right;\n",
       "    }\n",
       "</style>\n",
       "<table border=\"1\" class=\"dataframe\">\n",
       "  <thead>\n",
       "    <tr style=\"text-align: right;\">\n",
       "      <th></th>\n",
       "      <th>index</th>\n",
       "      <th>movie_name</th>\n",
       "      <th>year_of_release</th>\n",
       "      <th>category</th>\n",
       "      <th>run_time</th>\n",
       "      <th>genre</th>\n",
       "      <th>imdb_rating</th>\n",
       "      <th>votes</th>\n",
       "      <th>gross_total</th>\n",
       "    </tr>\n",
       "  </thead>\n",
       "  <tbody>\n",
       "    <tr>\n",
       "      <th>0</th>\n",
       "      <td>1.0</td>\n",
       "      <td>The Godfather</td>\n",
       "      <td>1972</td>\n",
       "      <td>R</td>\n",
       "      <td>175 min</td>\n",
       "      <td>Comedy</td>\n",
       "      <td>9.2</td>\n",
       "      <td>1860471</td>\n",
       "      <td>$134.97M</td>\n",
       "    </tr>\n",
       "    <tr>\n",
       "      <th>1</th>\n",
       "      <td>2.0</td>\n",
       "      <td>The Silence of the Lambs</td>\n",
       "      <td>1991</td>\n",
       "      <td>R</td>\n",
       "      <td>118 min</td>\n",
       "      <td>Crime</td>\n",
       "      <td>8.6</td>\n",
       "      <td>1435344</td>\n",
       "      <td>$130.74M</td>\n",
       "    </tr>\n",
       "    <tr>\n",
       "      <th>2</th>\n",
       "      <td>3.0</td>\n",
       "      <td>Star Wars: Episode V - The Empire Strikes Back</td>\n",
       "      <td>1980</td>\n",
       "      <td>PG</td>\n",
       "      <td>124 min</td>\n",
       "      <td>Fantasy</td>\n",
       "      <td>8.7</td>\n",
       "      <td>1294805</td>\n",
       "      <td>$290.48M</td>\n",
       "    </tr>\n",
       "    <tr>\n",
       "      <th>3</th>\n",
       "      <td>4.0</td>\n",
       "      <td>The Shawshank Redemption</td>\n",
       "      <td>1994</td>\n",
       "      <td>R</td>\n",
       "      <td>142 min</td>\n",
       "      <td>Drama</td>\n",
       "      <td>9.3</td>\n",
       "      <td>2683302</td>\n",
       "      <td>$28.34M</td>\n",
       "    </tr>\n",
       "    <tr>\n",
       "      <th>4</th>\n",
       "      <td>5.0</td>\n",
       "      <td>The Shining</td>\n",
       "      <td>1980</td>\n",
       "      <td>R</td>\n",
       "      <td>146 min</td>\n",
       "      <td>Horror</td>\n",
       "      <td>8.4</td>\n",
       "      <td>1025560</td>\n",
       "      <td>$44.02M</td>\n",
       "    </tr>\n",
       "  </tbody>\n",
       "</table>\n",
       "</div>"
      ],
      "text/plain": [
       "   index                                      movie_name  year_of_release  \\\n",
       "0    1.0                                   The Godfather             1972   \n",
       "1    2.0                        The Silence of the Lambs             1991   \n",
       "2    3.0  Star Wars: Episode V - The Empire Strikes Back             1980   \n",
       "3    4.0                        The Shawshank Redemption             1994   \n",
       "4    5.0                                     The Shining             1980   \n",
       "\n",
       "  category run_time    genre  imdb_rating    votes gross_total  \n",
       "0        R  175 min   Comedy          9.2  1860471    $134.97M  \n",
       "1        R  118 min    Crime          8.6  1435344    $130.74M  \n",
       "2       PG  124 min  Fantasy          8.7  1294805    $290.48M  \n",
       "3        R  142 min    Drama          9.3  2683302     $28.34M  \n",
       "4        R  146 min   Horror          8.4  1025560     $44.02M  "
      ]
     },
     "execution_count": 20,
     "metadata": {},
     "output_type": "execute_result"
    }
   ],
   "source": [
    "import pandas as pd\n",
    "df = pd.read_csv('movies.csv', sep=';', thousands=',')\n",
    "df.head()"
   ]
  },
  {
   "cell_type": "code",
   "execution_count": 21,
   "id": "bcecb8c9",
   "metadata": {
    "scrolled": true
   },
   "outputs": [
    {
     "name": "stdout",
     "output_type": "stream",
     "text": [
      "<class 'pandas.core.frame.DataFrame'>\n",
      "RangeIndex: 100 entries, 0 to 99\n",
      "Data columns (total 9 columns):\n",
      " #   Column           Non-Null Count  Dtype  \n",
      "---  ------           --------------  -----  \n",
      " 0   index            100 non-null    float64\n",
      " 1   movie_name       100 non-null    object \n",
      " 2   year_of_release  100 non-null    int64  \n",
      " 3   category         100 non-null    object \n",
      " 4   run_time         100 non-null    object \n",
      " 5   genre            100 non-null    object \n",
      " 6   imdb_rating      100 non-null    float64\n",
      " 7   votes            100 non-null    int64  \n",
      " 8   gross_total      99 non-null     object \n",
      "dtypes: float64(2), int64(2), object(5)\n",
      "memory usage: 7.2+ KB\n"
     ]
    }
   ],
   "source": [
    "df.info()"
   ]
  },
  {
   "cell_type": "code",
   "execution_count": 22,
   "id": "1a7dd780",
   "metadata": {
    "scrolled": true
   },
   "outputs": [
    {
     "data": {
      "text/plain": [
       "array(['R', 'PG', 'PG-13', 'G'], dtype=object)"
      ]
     },
     "execution_count": 22,
     "metadata": {},
     "output_type": "execute_result"
    }
   ],
   "source": [
    "df['category'].unique()"
   ]
  },
  {
   "cell_type": "code",
   "execution_count": 23,
   "id": "2a0cb832",
   "metadata": {},
   "outputs": [
    {
     "data": {
      "text/html": [
       "<div>\n",
       "<style scoped>\n",
       "    .dataframe tbody tr th:only-of-type {\n",
       "        vertical-align: middle;\n",
       "    }\n",
       "\n",
       "    .dataframe tbody tr th {\n",
       "        vertical-align: top;\n",
       "    }\n",
       "\n",
       "    .dataframe thead th {\n",
       "        text-align: right;\n",
       "    }\n",
       "</style>\n",
       "<table border=\"1\" class=\"dataframe\">\n",
       "  <thead>\n",
       "    <tr style=\"text-align: right;\">\n",
       "      <th></th>\n",
       "      <th>index</th>\n",
       "      <th>year_of_release</th>\n",
       "      <th>imdb_rating</th>\n",
       "      <th>votes</th>\n",
       "    </tr>\n",
       "  </thead>\n",
       "  <tbody>\n",
       "    <tr>\n",
       "      <th>count</th>\n",
       "      <td>100.000000</td>\n",
       "      <td>100.000000</td>\n",
       "      <td>100.000000</td>\n",
       "      <td>1.000000e+02</td>\n",
       "    </tr>\n",
       "    <tr>\n",
       "      <th>mean</th>\n",
       "      <td>50.500000</td>\n",
       "      <td>1988.990000</td>\n",
       "      <td>8.357000</td>\n",
       "      <td>9.146570e+05</td>\n",
       "    </tr>\n",
       "    <tr>\n",
       "      <th>std</th>\n",
       "      <td>29.011492</td>\n",
       "      <td>20.023973</td>\n",
       "      <td>0.376656</td>\n",
       "      <td>5.964204e+05</td>\n",
       "    </tr>\n",
       "    <tr>\n",
       "      <th>min</th>\n",
       "      <td>1.000000</td>\n",
       "      <td>1931.000000</td>\n",
       "      <td>7.200000</td>\n",
       "      <td>1.074800e+04</td>\n",
       "    </tr>\n",
       "    <tr>\n",
       "      <th>25%</th>\n",
       "      <td>25.750000</td>\n",
       "      <td>1979.000000</td>\n",
       "      <td>8.100000</td>\n",
       "      <td>4.854240e+05</td>\n",
       "    </tr>\n",
       "    <tr>\n",
       "      <th>50%</th>\n",
       "      <td>50.500000</td>\n",
       "      <td>1995.000000</td>\n",
       "      <td>8.300000</td>\n",
       "      <td>8.137855e+05</td>\n",
       "    </tr>\n",
       "    <tr>\n",
       "      <th>75%</th>\n",
       "      <td>75.250000</td>\n",
       "      <td>2003.000000</td>\n",
       "      <td>8.600000</td>\n",
       "      <td>1.216750e+06</td>\n",
       "    </tr>\n",
       "    <tr>\n",
       "      <th>max</th>\n",
       "      <td>100.000000</td>\n",
       "      <td>2015.000000</td>\n",
       "      <td>9.300000</td>\n",
       "      <td>2.683302e+06</td>\n",
       "    </tr>\n",
       "  </tbody>\n",
       "</table>\n",
       "</div>"
      ],
      "text/plain": [
       "            index  year_of_release  imdb_rating         votes\n",
       "count  100.000000       100.000000   100.000000  1.000000e+02\n",
       "mean    50.500000      1988.990000     8.357000  9.146570e+05\n",
       "std     29.011492        20.023973     0.376656  5.964204e+05\n",
       "min      1.000000      1931.000000     7.200000  1.074800e+04\n",
       "25%     25.750000      1979.000000     8.100000  4.854240e+05\n",
       "50%     50.500000      1995.000000     8.300000  8.137855e+05\n",
       "75%     75.250000      2003.000000     8.600000  1.216750e+06\n",
       "max    100.000000      2015.000000     9.300000  2.683302e+06"
      ]
     },
     "execution_count": 23,
     "metadata": {},
     "output_type": "execute_result"
    }
   ],
   "source": [
    "df.describe() # Here are all kinds of calculations made, like the count of each column, mean (average), \n",
    "# std (measure of how spread out the numbers are), some percentages, min and max value."
   ]
  },
  {
   "cell_type": "code",
   "execution_count": 24,
   "id": "5f321df2",
   "metadata": {},
   "outputs": [],
   "source": [
    "# You can also create visuals. For example a histogram or a boxplot"
   ]
  },
  {
   "cell_type": "code",
   "execution_count": 25,
   "id": "8a24177e",
   "metadata": {},
   "outputs": [
    {
     "data": {
      "text/plain": [
       "<AxesSubplot:>"
      ]
     },
     "execution_count": 25,
     "metadata": {},
     "output_type": "execute_result"
    },
    {
     "data": {
      "image/png": "[encoded data removed]",
      "text/plain": [
       "<Figure size 640x480 with 1 Axes>"
      ]
     },
     "metadata": {},
     "output_type": "display_data"
    }
   ],
   "source": [
    "df['category'].value_counts().plot(kind='bar')"
   ]
  },
  {
   "cell_type": "code",
   "execution_count": 26,
   "id": "5bc62036",
   "metadata": {},
   "outputs": [
    {
     "data": {
      "text/plain": [
       "<AxesSubplot:>"
      ]
     },
     "execution_count": 26,
     "metadata": {},
     "output_type": "execute_result"
    },
    {
     "data": {
      "image/png": "[encoded data removed]",
      "text/plain": [
       "<Figure size 640x480 with 1 Axes>"
      ]
     },
     "metadata": {},
     "output_type": "display_data"
    }
   ],
   "source": [
    "df['imdb_rating'].plot(kind='box')"
   ]
  },
  {
   "cell_type": "code",
   "execution_count": 32,
   "id": "412d5b7a",
   "metadata": {},
   "outputs": [],
   "source": [
    "# There is also scatterplot, barplot, trees and more"
   ]
  },
  {
   "cell_type": "code",
   "execution_count": 28,
   "id": "55e8e7d7",
   "metadata": {},
   "outputs": [
    {
     "data": {
      "text/plain": [
       "<AxesSubplot:xlabel='imdb_rating', ylabel='votes'>"
      ]
     },
     "execution_count": 28,
     "metadata": {},
     "output_type": "execute_result"
    },
    {
     "data": {
      "image/png": "[encoded data removed]",
      "text/plain": [
       "<Figure size 640x480 with 1 Axes>"
      ]
     },
     "metadata": {},
     "output_type": "display_data"
    }
   ],
   "source": [
    "df.plot(kind='scatter', x='imdb_rating', y='votes')"
   ]
  },
  {
   "cell_type": "code",
   "execution_count": 30,
   "id": "bf832888",
   "metadata": {},
   "outputs": [],
   "source": [
    "import seaborn as sns"
   ]
  },
  {
   "cell_type": "code",
   "execution_count": 31,
   "id": "80e84edc",
   "metadata": {
    "scrolled": true
   },
   "outputs": [
    {
     "data": {
      "text/plain": [
       "<AxesSubplot:xlabel='category', ylabel='votes'>"
      ]
     },
     "execution_count": 31,
     "metadata": {},
     "output_type": "execute_result"
    },
    {
     "data": {
      "image/png": "[encoded data removed]",
      "text/plain": [
       "<Figure size 640x480 with 1 Axes>"
      ]
     },
     "metadata": {},
     "output_type": "display_data"
    }
   ],
   "source": [
    "sns.barplot(y=\"votes\", x=\"category\", data=df)"
   ]
  },
  {
   "cell_type": "code",
   "execution_count": 49,
   "id": "d2e39546",
   "metadata": {},
   "outputs": [],
   "source": [
    "import numpy as np\n",
    "from sklearn.tree import DecisionTreeClassifier\n",
    "from sklearn.model_selection import train_test_split\n",
    "from sklearn import tree\n",
    "import graphviz\n",
    "\n",
    "def plot_tree(model, features, class_names):\n",
    "    # Generate plot data\n",
    "    dot_data = tree.export_graphviz(model, out_file=None, \n",
    "                          feature_names=features, \n",
    "                          class_names=class_names, \n",
    "                          filled=True, rounded=True, \n",
    "                          special_characters=True) \n",
    "\n",
    "    # Turn into graph using graphviz\n",
    "    graph = graphviz.Source(dot_data)  \n",
    "\n",
    "    # Write out a pdf\n",
    "    graph.render(\"decision_tree\")\n",
    "\n",
    "    # Display in the notebook\n",
    "    return graph "
   ]
  },
  {
   "cell_type": "code",
   "execution_count": 50,
   "id": "37ebbb6f",
   "metadata": {},
   "outputs": [],
   "source": [
    "df_train, df_test = train_test_split(df, test_size=0.3, random_state=42, stratify=df['genre'])"
   ]
  },
  {
   "cell_type": "code",
   "execution_count": 53,
   "id": "bae823a5",
   "metadata": {
    "scrolled": true
   },
   "outputs": [
    {
     "data": {
      "text/plain": [
       "DecisionTreeClassifier(max_depth=3)"
      ]
     },
     "execution_count": 53,
     "metadata": {},
     "output_type": "execute_result"
    }
   ],
   "source": [
    "features= ['imdb_rating', 'votes']\n",
    "dt_classification = DecisionTreeClassifier(max_depth = 3)\n",
    "dt_classification.fit(df_train[features], df_train['genre'])"
   ]
  },
  {
   "cell_type": "code",
   "execution_count": 54,
   "id": "b9f4479a",
   "metadata": {
    "scrolled": false
   },
   "outputs": [
    {
     "data": {
      "image/svg+xml": [
       "<?xml version=\"1.0\" encoding=\"UTF-8\" standalone=\"no\"?>\n",
       "<!DOCTYPE svg PUBLIC \"-//W3C//DTD SVG 1.1//EN\"\n",
       " \"http://www.w3.org/Graphics/SVG/1.1/DTD/svg11.dtd\">\n",
       "<!-- Generated by graphviz version 2.50.0 (0)\n",
       " -->\n",
       "<!-- Title: Tree Pages: 1 -->\n",
       "<svg width=\"1854pt\" height=\"433pt\"\n",
       " viewBox=\"0.00 0.00 1854.00 433.00\" xmlns=\"http://www.w3.org/2000/svg\" xmlns:xlink=\"http://www.w3.org/1999/xlink\">\n",
       "<g id=\"graph0\" class=\"graph\" transform=\"scale(1 1) rotate(0) translate(4 429)\">\n",
       "<title>Tree</title>\n",
       "<polygon fill=\"white\" stroke=\"transparent\" points=\"-4,4 -4,-429 1850,-429 1850,4 -4,4\"/>\n",
       "<!-- 0 -->\n",
       "<g id=\"node1\" class=\"node\">\n",
       "<title>0</title>\n",
       "<path fill=\"#f9fefa\" stroke=\"black\" d=\"M1021.5,-425C1021.5,-425 823.5,-425 823.5,-425 817.5,-425 811.5,-419 811.5,-413 811.5,-413 811.5,-354 811.5,-354 811.5,-348 817.5,-342 823.5,-342 823.5,-342 1021.5,-342 1021.5,-342 1027.5,-342 1033.5,-348 1033.5,-354 1033.5,-354 1033.5,-413 1033.5,-413 1033.5,-419 1027.5,-425 1021.5,-425\"/>\n",
       "<text text-anchor=\"start\" x=\"866\" y=\"-409.8\" font-family=\"Helvetica,sans-Serif\" font-size=\"14.00\">imdb_rating ≤ 8.85</text>\n",
       "<text text-anchor=\"start\" x=\"887\" y=\"-394.8\" font-family=\"Helvetica,sans-Serif\" font-size=\"14.00\">gini = 0.895</text>\n",
       "<text text-anchor=\"start\" x=\"881.5\" y=\"-379.8\" font-family=\"Helvetica,sans-Serif\" font-size=\"14.00\">samples = 70</text>\n",
       "<text text-anchor=\"start\" x=\"819.5\" y=\"-364.8\" font-family=\"Helvetica,sans-Serif\" font-size=\"14.00\">value = [8, 7, 6, 10, 7, 4, 5, 7, 8, 8]</text>\n",
       "<text text-anchor=\"start\" x=\"880.5\" y=\"-349.8\" font-family=\"Helvetica,sans-Serif\" font-size=\"14.00\">class = Crime</text>\n",
       "</g>\n",
       "<!-- 1 -->\n",
       "<g id=\"node2\" class=\"node\">\n",
       "<title>1</title>\n",
       "<path fill=\"#ffffff\" stroke=\"black\" d=\"M785,-306C785,-306 594,-306 594,-306 588,-306 582,-300 582,-294 582,-294 582,-235 582,-235 582,-229 588,-223 594,-223 594,-223 785,-223 785,-223 791,-223 797,-229 797,-235 797,-235 797,-294 797,-294 797,-300 791,-306 785,-306\"/>\n",
       "<text text-anchor=\"start\" x=\"637.5\" y=\"-290.8\" font-family=\"Helvetica,sans-Serif\" font-size=\"14.00\">votes ≤ 987650.5</text>\n",
       "<text text-anchor=\"start\" x=\"654\" y=\"-275.8\" font-family=\"Helvetica,sans-Serif\" font-size=\"14.00\">gini = 0.896</text>\n",
       "<text text-anchor=\"start\" x=\"648.5\" y=\"-260.8\" font-family=\"Helvetica,sans-Serif\" font-size=\"14.00\">samples = 63</text>\n",
       "<text text-anchor=\"start\" x=\"590\" y=\"-245.8\" font-family=\"Helvetica,sans-Serif\" font-size=\"14.00\">value = [7, 6, 5, 6, 7, 4, 5, 7, 8, 8]</text>\n",
       "<text text-anchor=\"start\" x=\"636.5\" y=\"-230.8\" font-family=\"Helvetica,sans-Serif\" font-size=\"14.00\">class = Romance</text>\n",
       "</g>\n",
       "<!-- 0&#45;&gt;1 -->\n",
       "<g id=\"edge1\" class=\"edge\">\n",
       "<title>0&#45;&gt;1</title>\n",
       "<path fill=\"none\" stroke=\"black\" d=\"M841.66,-341.91C821.51,-331.79 799.78,-320.88 779.23,-310.56\"/>\n",
       "<polygon fill=\"black\" stroke=\"black\" points=\"780.7,-307.38 770.2,-306.02 777.56,-313.64 780.7,-307.38\"/>\n",
       "<text text-anchor=\"middle\" x=\"778.06\" y=\"-326.05\" font-family=\"Helvetica,sans-Serif\" font-size=\"14.00\">True</text>\n",
       "</g>\n",
       "<!-- 8 -->\n",
       "<g id=\"node9\" class=\"node\">\n",
       "<title>8</title>\n",
       "<path fill=\"#9cf2ae\" stroke=\"black\" d=\"M1251,-306C1251,-306 1060,-306 1060,-306 1054,-306 1048,-300 1048,-294 1048,-294 1048,-235 1048,-235 1048,-229 1054,-223 1060,-223 1060,-223 1251,-223 1251,-223 1257,-223 1263,-229 1263,-235 1263,-235 1263,-294 1263,-294 1263,-300 1257,-306 1251,-306\"/>\n",
       "<text text-anchor=\"start\" x=\"1102.5\" y=\"-290.8\" font-family=\"Helvetica,sans-Serif\" font-size=\"14.00\">imdb_rating ≤ 9.1</text>\n",
       "<text text-anchor=\"start\" x=\"1120\" y=\"-275.8\" font-family=\"Helvetica,sans-Serif\" font-size=\"14.00\">gini = 0.612</text>\n",
       "<text text-anchor=\"start\" x=\"1118\" y=\"-260.8\" font-family=\"Helvetica,sans-Serif\" font-size=\"14.00\">samples = 7</text>\n",
       "<text text-anchor=\"start\" x=\"1056\" y=\"-245.8\" font-family=\"Helvetica,sans-Serif\" font-size=\"14.00\">value = [1, 1, 1, 4, 0, 0, 0, 0, 0, 0]</text>\n",
       "<text text-anchor=\"start\" x=\"1113.5\" y=\"-230.8\" font-family=\"Helvetica,sans-Serif\" font-size=\"14.00\">class = Crime</text>\n",
       "</g>\n",
       "<!-- 0&#45;&gt;8 -->\n",
       "<g id=\"edge8\" class=\"edge\">\n",
       "<title>0&#45;&gt;8</title>\n",
       "<path fill=\"none\" stroke=\"black\" d=\"M1003.34,-341.91C1023.49,-331.79 1045.22,-320.88 1065.77,-310.56\"/>\n",
       "<polygon fill=\"black\" stroke=\"black\" points=\"1067.44,-313.64 1074.8,-306.02 1064.3,-307.38 1067.44,-313.64\"/>\n",
       "<text text-anchor=\"middle\" x=\"1066.94\" y=\"-326.05\" font-family=\"Helvetica,sans-Serif\" font-size=\"14.00\">False</text>\n",
       "</g>\n",
       "<!-- 2 -->\n",
       "<g id=\"node3\" class=\"node\">\n",
       "<title>2</title>\n",
       "<path fill=\"#fdeef9\" stroke=\"black\" d=\"M436,-187C436,-187 245,-187 245,-187 239,-187 233,-181 233,-175 233,-175 233,-116 233,-116 233,-110 239,-104 245,-104 245,-104 436,-104 436,-104 442,-104 448,-110 448,-116 448,-116 448,-175 448,-175 448,-181 442,-187 436,-187\"/>\n",
       "<text text-anchor=\"start\" x=\"284\" y=\"-171.8\" font-family=\"Helvetica,sans-Serif\" font-size=\"14.00\">imdb_rating ≤ 7.95</text>\n",
       "<text text-anchor=\"start\" x=\"305\" y=\"-156.8\" font-family=\"Helvetica,sans-Serif\" font-size=\"14.00\">gini = 0.882</text>\n",
       "<text text-anchor=\"start\" x=\"299.5\" y=\"-141.8\" font-family=\"Helvetica,sans-Serif\" font-size=\"14.00\">samples = 39</text>\n",
       "<text text-anchor=\"start\" x=\"241\" y=\"-126.8\" font-family=\"Helvetica,sans-Serif\" font-size=\"14.00\">value = [2, 4, 4, 3, 5, 2, 4, 4, 8, 3]</text>\n",
       "<text text-anchor=\"start\" x=\"287.5\" y=\"-111.8\" font-family=\"Helvetica,sans-Serif\" font-size=\"14.00\">class = Romance</text>\n",
       "</g>\n",
       "<!-- 1&#45;&gt;2 -->\n",
       "<g id=\"edge2\" class=\"edge\">\n",
       "<title>1&#45;&gt;2</title>\n",
       "<path fill=\"none\" stroke=\"black\" d=\"M581.94,-227.44C542.54,-214.23 497.77,-199.22 457.58,-185.75\"/>\n",
       "<polygon fill=\"black\" stroke=\"black\" points=\"458.6,-182.4 448,-182.54 456.37,-189.04 458.6,-182.4\"/>\n",
       "</g>\n",
       "<!-- 5 -->\n",
       "<g id=\"node6\" class=\"node\">\n",
       "<title>5</title>\n",
       "<path fill=\"#ffffff\" stroke=\"black\" d=\"M785,-187C785,-187 594,-187 594,-187 588,-187 582,-181 582,-175 582,-175 582,-116 582,-116 582,-110 588,-104 594,-104 594,-104 785,-104 785,-104 791,-104 797,-110 797,-116 797,-116 797,-175 797,-175 797,-181 791,-187 785,-187\"/>\n",
       "<text text-anchor=\"start\" x=\"633\" y=\"-171.8\" font-family=\"Helvetica,sans-Serif\" font-size=\"14.00\">imdb_rating ≤ 8.35</text>\n",
       "<text text-anchor=\"start\" x=\"654\" y=\"-156.8\" font-family=\"Helvetica,sans-Serif\" font-size=\"14.00\">gini = 0.858</text>\n",
       "<text text-anchor=\"start\" x=\"648.5\" y=\"-141.8\" font-family=\"Helvetica,sans-Serif\" font-size=\"14.00\">samples = 24</text>\n",
       "<text text-anchor=\"start\" x=\"590\" y=\"-126.8\" font-family=\"Helvetica,sans-Serif\" font-size=\"14.00\">value = [5, 2, 1, 3, 2, 2, 1, 3, 0, 5]</text>\n",
       "<text text-anchor=\"start\" x=\"647.5\" y=\"-111.8\" font-family=\"Helvetica,sans-Serif\" font-size=\"14.00\">class = Action</text>\n",
       "</g>\n",
       "<!-- 1&#45;&gt;5 -->\n",
       "<g id=\"edge5\" class=\"edge\">\n",
       "<title>1&#45;&gt;5</title>\n",
       "<path fill=\"none\" stroke=\"black\" d=\"M689.5,-222.91C689.5,-214.65 689.5,-205.86 689.5,-197.3\"/>\n",
       "<polygon fill=\"black\" stroke=\"black\" points=\"693,-197.02 689.5,-187.02 686,-197.02 693,-197.02\"/>\n",
       "</g>\n",
       "<!-- 3 -->\n",
       "<g id=\"node4\" class=\"node\">\n",
       "<title>3</title>\n",
       "<path fill=\"#ffffff\" stroke=\"black\" d=\"M203,-68C203,-68 12,-68 12,-68 6,-68 0,-62 0,-56 0,-56 0,-12 0,-12 0,-6 6,0 12,0 12,0 203,0 203,0 209,0 215,-6 215,-12 215,-12 215,-56 215,-56 215,-62 209,-68 203,-68\"/>\n",
       "<text text-anchor=\"start\" x=\"72\" y=\"-52.8\" font-family=\"Helvetica,sans-Serif\" font-size=\"14.00\">gini = 0.776</text>\n",
       "<text text-anchor=\"start\" x=\"70\" y=\"-37.8\" font-family=\"Helvetica,sans-Serif\" font-size=\"14.00\">samples = 7</text>\n",
       "<text text-anchor=\"start\" x=\"8\" y=\"-22.8\" font-family=\"Helvetica,sans-Serif\" font-size=\"14.00\">value = [1, 0, 1, 0, 0, 2, 0, 0, 2, 1]</text>\n",
       "<text text-anchor=\"start\" x=\"60\" y=\"-7.8\" font-family=\"Helvetica,sans-Serif\" font-size=\"14.00\">class = Fantasy</text>\n",
       "</g>\n",
       "<!-- 2&#45;&gt;3 -->\n",
       "<g id=\"edge3\" class=\"edge\">\n",
       "<title>2&#45;&gt;3</title>\n",
       "<path fill=\"none\" stroke=\"black\" d=\"M254.07,-103.88C232.09,-93.55 208.57,-82.5 186.95,-72.34\"/>\n",
       "<polygon fill=\"black\" stroke=\"black\" points=\"188.35,-69.13 177.81,-68.04 185.37,-75.46 188.35,-69.13\"/>\n",
       "</g>\n",
       "<!-- 4 -->\n",
       "<g id=\"node5\" class=\"node\">\n",
       "<title>4</title>\n",
       "<path fill=\"#fef8fd\" stroke=\"black\" d=\"M436,-68C436,-68 245,-68 245,-68 239,-68 233,-62 233,-56 233,-56 233,-12 233,-12 233,-6 239,0 245,0 245,0 436,0 436,0 442,0 448,-6 448,-12 448,-12 448,-56 448,-56 448,-62 442,-68 436,-68\"/>\n",
       "<text text-anchor=\"start\" x=\"305\" y=\"-52.8\" font-family=\"Helvetica,sans-Serif\" font-size=\"14.00\">gini = 0.871</text>\n",
       "<text text-anchor=\"start\" x=\"299.5\" y=\"-37.8\" font-family=\"Helvetica,sans-Serif\" font-size=\"14.00\">samples = 32</text>\n",
       "<text text-anchor=\"start\" x=\"241\" y=\"-22.8\" font-family=\"Helvetica,sans-Serif\" font-size=\"14.00\">value = [1, 4, 3, 3, 5, 0, 4, 4, 6, 2]</text>\n",
       "<text text-anchor=\"start\" x=\"287.5\" y=\"-7.8\" font-family=\"Helvetica,sans-Serif\" font-size=\"14.00\">class = Romance</text>\n",
       "</g>\n",
       "<!-- 2&#45;&gt;4 -->\n",
       "<g id=\"edge4\" class=\"edge\">\n",
       "<title>2&#45;&gt;4</title>\n",
       "<path fill=\"none\" stroke=\"black\" d=\"M340.5,-103.73C340.5,-95.52 340.5,-86.86 340.5,-78.56\"/>\n",
       "<polygon fill=\"black\" stroke=\"black\" points=\"344,-78.3 340.5,-68.3 337,-78.3 344,-78.3\"/>\n",
       "</g>\n",
       "<!-- 6 -->\n",
       "<g id=\"node7\" class=\"node\">\n",
       "<title>6</title>\n",
       "<path fill=\"#f29cac\" stroke=\"black\" d=\"M669,-68C669,-68 478,-68 478,-68 472,-68 466,-62 466,-56 466,-56 466,-12 466,-12 466,-6 472,0 478,0 478,0 669,0 669,0 675,0 681,-6 681,-12 681,-12 681,-56 681,-56 681,-62 675,-68 669,-68\"/>\n",
       "<text text-anchor=\"start\" x=\"541.5\" y=\"-52.8\" font-family=\"Helvetica,sans-Serif\" font-size=\"14.00\">gini = 0.56</text>\n",
       "<text text-anchor=\"start\" x=\"536\" y=\"-37.8\" font-family=\"Helvetica,sans-Serif\" font-size=\"14.00\">samples = 5</text>\n",
       "<text text-anchor=\"start\" x=\"474\" y=\"-22.8\" font-family=\"Helvetica,sans-Serif\" font-size=\"14.00\">value = [0, 0, 0, 1, 0, 1, 0, 0, 0, 3]</text>\n",
       "<text text-anchor=\"start\" x=\"532.5\" y=\"-7.8\" font-family=\"Helvetica,sans-Serif\" font-size=\"14.00\">class = Sci&#45;Fi</text>\n",
       "</g>\n",
       "<!-- 5&#45;&gt;6 -->\n",
       "<g id=\"edge6\" class=\"edge\">\n",
       "<title>5&#45;&gt;6</title>\n",
       "<path fill=\"none\" stroke=\"black\" d=\"M646.31,-103.73C636.45,-94.42 625.98,-84.54 616.15,-75.26\"/>\n",
       "<polygon fill=\"black\" stroke=\"black\" points=\"618.45,-72.62 608.78,-68.3 613.65,-77.71 618.45,-72.62\"/>\n",
       "</g>\n",
       "<!-- 7 -->\n",
       "<g id=\"node8\" class=\"node\">\n",
       "<title>7</title>\n",
       "<path fill=\"#fcefe6\" stroke=\"black\" d=\"M902,-68C902,-68 711,-68 711,-68 705,-68 699,-62 699,-56 699,-56 699,-12 699,-12 699,-6 705,0 711,0 711,0 902,0 902,0 908,0 914,-6 914,-12 914,-12 914,-56 914,-56 914,-62 908,-68 902,-68\"/>\n",
       "<text text-anchor=\"start\" x=\"771\" y=\"-52.8\" font-family=\"Helvetica,sans-Serif\" font-size=\"14.00\">gini = 0.853</text>\n",
       "<text text-anchor=\"start\" x=\"765.5\" y=\"-37.8\" font-family=\"Helvetica,sans-Serif\" font-size=\"14.00\">samples = 19</text>\n",
       "<text text-anchor=\"start\" x=\"707\" y=\"-22.8\" font-family=\"Helvetica,sans-Serif\" font-size=\"14.00\">value = [5, 2, 1, 2, 2, 1, 1, 3, 0, 2]</text>\n",
       "<text text-anchor=\"start\" x=\"764.5\" y=\"-7.8\" font-family=\"Helvetica,sans-Serif\" font-size=\"14.00\">class = Action</text>\n",
       "</g>\n",
       "<!-- 5&#45;&gt;7 -->\n",
       "<g id=\"edge7\" class=\"edge\">\n",
       "<title>5&#45;&gt;7</title>\n",
       "<path fill=\"none\" stroke=\"black\" d=\"M733.07,-103.73C743.01,-94.42 753.56,-84.54 763.48,-75.26\"/>\n",
       "<polygon fill=\"black\" stroke=\"black\" points=\"766.01,-77.69 770.92,-68.3 761.23,-72.58 766.01,-77.69\"/>\n",
       "</g>\n",
       "<!-- 9 -->\n",
       "<g id=\"node10\" class=\"node\">\n",
       "<title>9</title>\n",
       "<path fill=\"#6aec86\" stroke=\"black\" d=\"M1251,-187C1251,-187 1060,-187 1060,-187 1054,-187 1048,-181 1048,-175 1048,-175 1048,-116 1048,-116 1048,-110 1054,-104 1060,-104 1060,-104 1251,-104 1251,-104 1257,-104 1263,-110 1263,-116 1263,-116 1263,-175 1263,-175 1263,-181 1257,-187 1251,-187\"/>\n",
       "<text text-anchor=\"start\" x=\"1099.5\" y=\"-171.8\" font-family=\"Helvetica,sans-Serif\" font-size=\"14.00\">votes ≤ 1561215.5</text>\n",
       "<text text-anchor=\"start\" x=\"1123.5\" y=\"-156.8\" font-family=\"Helvetica,sans-Serif\" font-size=\"14.00\">gini = 0.32</text>\n",
       "<text text-anchor=\"start\" x=\"1118\" y=\"-141.8\" font-family=\"Helvetica,sans-Serif\" font-size=\"14.00\">samples = 5</text>\n",
       "<text text-anchor=\"start\" x=\"1056\" y=\"-126.8\" font-family=\"Helvetica,sans-Serif\" font-size=\"14.00\">value = [0, 1, 0, 4, 0, 0, 0, 0, 0, 0]</text>\n",
       "<text text-anchor=\"start\" x=\"1113.5\" y=\"-111.8\" font-family=\"Helvetica,sans-Serif\" font-size=\"14.00\">class = Crime</text>\n",
       "</g>\n",
       "<!-- 8&#45;&gt;9 -->\n",
       "<g id=\"edge9\" class=\"edge\">\n",
       "<title>8&#45;&gt;9</title>\n",
       "<path fill=\"none\" stroke=\"black\" d=\"M1155.5,-222.91C1155.5,-214.65 1155.5,-205.86 1155.5,-197.3\"/>\n",
       "<polygon fill=\"black\" stroke=\"black\" points=\"1159,-197.02 1155.5,-187.02 1152,-197.02 1159,-197.02\"/>\n",
       "</g>\n",
       "<!-- 12 -->\n",
       "<g id=\"node13\" class=\"node\">\n",
       "<title>12</title>\n",
       "<path fill=\"#ffffff\" stroke=\"black\" d=\"M1601,-187C1601,-187 1410,-187 1410,-187 1404,-187 1398,-181 1398,-175 1398,-175 1398,-116 1398,-116 1398,-110 1404,-104 1410,-104 1410,-104 1601,-104 1601,-104 1607,-104 1613,-110 1613,-116 1613,-116 1613,-175 1613,-175 1613,-181 1607,-187 1601,-187\"/>\n",
       "<text text-anchor=\"start\" x=\"1450.5\" y=\"-171.8\" font-family=\"Helvetica,sans-Serif\" font-size=\"14.00\">votes ≤ 1114646.5</text>\n",
       "<text text-anchor=\"start\" x=\"1477.5\" y=\"-156.8\" font-family=\"Helvetica,sans-Serif\" font-size=\"14.00\">gini = 0.5</text>\n",
       "<text text-anchor=\"start\" x=\"1468\" y=\"-141.8\" font-family=\"Helvetica,sans-Serif\" font-size=\"14.00\">samples = 2</text>\n",
       "<text text-anchor=\"start\" x=\"1406\" y=\"-126.8\" font-family=\"Helvetica,sans-Serif\" font-size=\"14.00\">value = [1, 0, 1, 0, 0, 0, 0, 0, 0, 0]</text>\n",
       "<text text-anchor=\"start\" x=\"1463.5\" y=\"-111.8\" font-family=\"Helvetica,sans-Serif\" font-size=\"14.00\">class = Action</text>\n",
       "</g>\n",
       "<!-- 8&#45;&gt;12 -->\n",
       "<g id=\"edge12\" class=\"edge\">\n",
       "<title>8&#45;&gt;12</title>\n",
       "<path fill=\"none\" stroke=\"black\" d=\"M1263.37,-227.44C1302.97,-214.2 1347.99,-199.15 1388.37,-185.65\"/>\n",
       "<polygon fill=\"black\" stroke=\"black\" points=\"1389.61,-188.93 1397.99,-182.44 1387.39,-182.29 1389.61,-188.93\"/>\n",
       "</g>\n",
       "<!-- 10 -->\n",
       "<g id=\"node11\" class=\"node\">\n",
       "<title>10</title>\n",
       "<path fill=\"#39e55e\" stroke=\"black\" d=\"M1135,-68C1135,-68 944,-68 944,-68 938,-68 932,-62 932,-56 932,-56 932,-12 932,-12 932,-6 938,0 944,0 944,0 1135,0 1135,0 1141,0 1147,-6 1147,-12 1147,-12 1147,-56 1147,-56 1147,-62 1141,-68 1135,-68\"/>\n",
       "<text text-anchor=\"start\" x=\"1011.5\" y=\"-52.8\" font-family=\"Helvetica,sans-Serif\" font-size=\"14.00\">gini = 0.0</text>\n",
       "<text text-anchor=\"start\" x=\"1002\" y=\"-37.8\" font-family=\"Helvetica,sans-Serif\" font-size=\"14.00\">samples = 2</text>\n",
       "<text text-anchor=\"start\" x=\"940\" y=\"-22.8\" font-family=\"Helvetica,sans-Serif\" font-size=\"14.00\">value = [0, 0, 0, 2, 0, 0, 0, 0, 0, 0]</text>\n",
       "<text text-anchor=\"start\" x=\"997.5\" y=\"-7.8\" font-family=\"Helvetica,sans-Serif\" font-size=\"14.00\">class = Crime</text>\n",
       "</g>\n",
       "<!-- 9&#45;&gt;10 -->\n",
       "<g id=\"edge10\" class=\"edge\">\n",
       "<title>9&#45;&gt;10</title>\n",
       "<path fill=\"none\" stroke=\"black\" d=\"M1112.31,-103.73C1102.45,-94.42 1091.98,-84.54 1082.15,-75.26\"/>\n",
       "<polygon fill=\"black\" stroke=\"black\" points=\"1084.45,-72.62 1074.78,-68.3 1079.65,-77.71 1084.45,-72.62\"/>\n",
       "</g>\n",
       "<!-- 11 -->\n",
       "<g id=\"node12\" class=\"node\">\n",
       "<title>11</title>\n",
       "<path fill=\"#9cf2ae\" stroke=\"black\" d=\"M1368,-68C1368,-68 1177,-68 1177,-68 1171,-68 1165,-62 1165,-56 1165,-56 1165,-12 1165,-12 1165,-6 1171,0 1177,0 1177,0 1368,0 1368,0 1374,0 1380,-6 1380,-12 1380,-12 1380,-56 1380,-56 1380,-62 1374,-68 1368,-68\"/>\n",
       "<text text-anchor=\"start\" x=\"1237\" y=\"-52.8\" font-family=\"Helvetica,sans-Serif\" font-size=\"14.00\">gini = 0.444</text>\n",
       "<text text-anchor=\"start\" x=\"1235\" y=\"-37.8\" font-family=\"Helvetica,sans-Serif\" font-size=\"14.00\">samples = 3</text>\n",
       "<text text-anchor=\"start\" x=\"1173\" y=\"-22.8\" font-family=\"Helvetica,sans-Serif\" font-size=\"14.00\">value = [0, 1, 0, 2, 0, 0, 0, 0, 0, 0]</text>\n",
       "<text text-anchor=\"start\" x=\"1230.5\" y=\"-7.8\" font-family=\"Helvetica,sans-Serif\" font-size=\"14.00\">class = Crime</text>\n",
       "</g>\n",
       "<!-- 9&#45;&gt;11 -->\n",
       "<g id=\"edge11\" class=\"edge\">\n",
       "<title>9&#45;&gt;11</title>\n",
       "<path fill=\"none\" stroke=\"black\" d=\"M1199.07,-103.73C1209.01,-94.42 1219.56,-84.54 1229.48,-75.26\"/>\n",
       "<polygon fill=\"black\" stroke=\"black\" points=\"1232.01,-77.69 1236.92,-68.3 1227.23,-72.58 1232.01,-77.69\"/>\n",
       "</g>\n",
       "<!-- 13 -->\n",
       "<g id=\"node14\" class=\"node\">\n",
       "<title>13</title>\n",
       "<path fill=\"#e58139\" stroke=\"black\" d=\"M1601,-68C1601,-68 1410,-68 1410,-68 1404,-68 1398,-62 1398,-56 1398,-56 1398,-12 1398,-12 1398,-6 1404,0 1410,0 1410,0 1601,0 1601,0 1607,0 1613,-6 1613,-12 1613,-12 1613,-56 1613,-56 1613,-62 1607,-68 1601,-68\"/>\n",
       "<text text-anchor=\"start\" x=\"1477.5\" y=\"-52.8\" font-family=\"Helvetica,sans-Serif\" font-size=\"14.00\">gini = 0.0</text>\n",
       "<text text-anchor=\"start\" x=\"1468\" y=\"-37.8\" font-family=\"Helvetica,sans-Serif\" font-size=\"14.00\">samples = 1</text>\n",
       "<text text-anchor=\"start\" x=\"1406\" y=\"-22.8\" font-family=\"Helvetica,sans-Serif\" font-size=\"14.00\">value = [1, 0, 0, 0, 0, 0, 0, 0, 0, 0]</text>\n",
       "<text text-anchor=\"start\" x=\"1463.5\" y=\"-7.8\" font-family=\"Helvetica,sans-Serif\" font-size=\"14.00\">class = Action</text>\n",
       "</g>\n",
       "<!-- 12&#45;&gt;13 -->\n",
       "<g id=\"edge13\" class=\"edge\">\n",
       "<title>12&#45;&gt;13</title>\n",
       "<path fill=\"none\" stroke=\"black\" d=\"M1505.5,-103.73C1505.5,-95.52 1505.5,-86.86 1505.5,-78.56\"/>\n",
       "<polygon fill=\"black\" stroke=\"black\" points=\"1509,-78.3 1505.5,-68.3 1502,-78.3 1509,-78.3\"/>\n",
       "</g>\n",
       "<!-- 14 -->\n",
       "<g id=\"node15\" class=\"node\">\n",
       "<title>14</title>\n",
       "<path fill=\"#7be539\" stroke=\"black\" d=\"M1834,-68C1834,-68 1643,-68 1643,-68 1637,-68 1631,-62 1631,-56 1631,-56 1631,-12 1631,-12 1631,-6 1637,0 1643,0 1643,0 1834,0 1834,0 1840,0 1846,-6 1846,-12 1846,-12 1846,-56 1846,-56 1846,-62 1840,-68 1834,-68\"/>\n",
       "<text text-anchor=\"start\" x=\"1710.5\" y=\"-52.8\" font-family=\"Helvetica,sans-Serif\" font-size=\"14.00\">gini = 0.0</text>\n",
       "<text text-anchor=\"start\" x=\"1701\" y=\"-37.8\" font-family=\"Helvetica,sans-Serif\" font-size=\"14.00\">samples = 1</text>\n",
       "<text text-anchor=\"start\" x=\"1639\" y=\"-22.8\" font-family=\"Helvetica,sans-Serif\" font-size=\"14.00\">value = [0, 0, 1, 0, 0, 0, 0, 0, 0, 0]</text>\n",
       "<text text-anchor=\"start\" x=\"1689.5\" y=\"-7.8\" font-family=\"Helvetica,sans-Serif\" font-size=\"14.00\">class = Comedy</text>\n",
       "</g>\n",
       "<!-- 12&#45;&gt;14 -->\n",
       "<g id=\"edge14\" class=\"edge\">\n",
       "<title>12&#45;&gt;14</title>\n",
       "<path fill=\"none\" stroke=\"black\" d=\"M1591.93,-103.88C1613.91,-93.55 1637.43,-82.5 1659.05,-72.34\"/>\n",
       "<polygon fill=\"black\" stroke=\"black\" points=\"1660.63,-75.46 1668.19,-68.04 1657.65,-69.13 1660.63,-75.46\"/>\n",
       "</g>\n",
       "</g>\n",
       "</svg>\n"
      ],
      "text/plain": [
       "<graphviz.sources.Source at 0x21112cf6fa0>"
      ]
     },
     "execution_count": 54,
     "metadata": {},
     "output_type": "execute_result"
    }
   ],
   "source": [
    "plot_tree(dt_classification, features, np.sort(df.genre.unique()))"
   ]
  },
  {
   "cell_type": "code",
   "execution_count": 64,
   "id": "d775b67e",
   "metadata": {},
   "outputs": [],
   "source": [
    "# Predictions could also be made about, for example, accuracy"
   ]
  },
  {
   "cell_type": "code",
   "execution_count": 65,
   "id": "31532548",
   "metadata": {},
   "outputs": [],
   "source": [
    "def calculate_accuracy(predictions, actuals):\n",
    "    if(len(predictions) != len(actuals)):\n",
    "        raise Exception(\"The amount of predictions did not equal the amount of actuals\")\n",
    "    \n",
    "    return (predictions == actuals).sum() / len(actuals)"
   ]
  },
  {
   "cell_type": "code",
   "execution_count": 66,
   "id": "bf678fdb",
   "metadata": {},
   "outputs": [
    {
     "data": {
      "text/plain": [
       "DecisionTreeClassifier(max_depth=13)"
      ]
     },
     "execution_count": 66,
     "metadata": {},
     "output_type": "execute_result"
    }
   ],
   "source": [
    "features= ['imdb_rating', 'votes']\n",
    "dt_classification = DecisionTreeClassifier(max_depth = 13) # Increase max_depth to see effect in the plot\n",
    "dt_classification.fit(df_train[features], df_train['genre'])"
   ]
  },
  {
   "cell_type": "code",
   "execution_count": 67,
   "id": "9b12f39d",
   "metadata": {},
   "outputs": [
    {
     "name": "stdout",
     "output_type": "stream",
     "text": [
      "Accuracy on training set 0.9428571428571428\n",
      "Accuracy on test set 0.2\n"
     ]
    }
   ],
   "source": [
    "predictionsOnTrainset = dt_classification.predict(df_train[features])\n",
    "predictionsOnTestset = dt_classification.predict(df_test[features])\n",
    "\n",
    "accuracyTrain = calculate_accuracy(predictionsOnTrainset, df_train.genre)\n",
    "accuracyTest = calculate_accuracy(predictionsOnTestset, df_test.genre)\n",
    "\n",
    "print(\"Accuracy on training set \" + str(accuracyTrain))\n",
    "print(\"Accuracy on test set \" + str(accuracyTest))"
   ]
  },
  {
   "cell_type": "markdown",
   "id": "b90d04b3",
   "metadata": {},
   "source": [
    "## Relation Data Science and Business Intelligence\n",
    "Both Data Science and Business Intelligence analyze data to generate insights that can support decision making."
   ]
  },
  {
   "cell_type": "markdown",
   "id": "2791876c",
   "metadata": {},
   "source": [
    "## Relation Data Science and AI\n",
    "Both Data Science and AI extract insights from data and automate decision making proccesses."
   ]
  },
  {
   "cell_type": "code",
   "execution_count": null,
   "id": "9db18266",
   "metadata": {},
   "outputs": [],
   "source": []
  }
 ],
 "metadata": {
  "kernelspec": {
   "display_name": "Python 3 (ipykernel)",
   "language": "python",
   "name": "python3"
  },
  "language_info": {
   "codemirror_mode": {
    "name": "ipython",
    "version": 3
   },
   "file_extension": ".py",
   "mimetype": "text/x-python",
   "name": "python",
   "nbconvert_exporter": "python",
   "pygments_lexer": "ipython3",
   "version": "3.9.13"
  }
 },
 "nbformat": 4,
 "nbformat_minor": 5
}
