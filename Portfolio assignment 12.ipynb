{
 "cells": [
  {
   "cell_type": "code",
   "execution_count": 35,
   "id": "1c708751",
   "metadata": {},
   "outputs": [],
   "source": [
    "import pandas as pd"
   ]
  },
  {
   "cell_type": "code",
   "execution_count": 36,
   "id": "31bd525d",
   "metadata": {},
   "outputs": [],
   "source": [
    "import seaborn as sns"
   ]
  },
  {
   "cell_type": "code",
   "execution_count": 37,
   "id": "bad8e519",
   "metadata": {},
   "outputs": [],
   "source": [
    "df = pd.read_csv('movies.csv', sep=';', thousands=',')"
   ]
  },
  {
   "cell_type": "code",
   "execution_count": 38,
   "id": "78896159",
   "metadata": {
    "scrolled": false
   },
   "outputs": [
    {
     "data": {
      "text/html": [
       "<div>\n",
       "<style scoped>\n",
       "    .dataframe tbody tr th:only-of-type {\n",
       "        vertical-align: middle;\n",
       "    }\n",
       "\n",
       "    .dataframe tbody tr th {\n",
       "        vertical-align: top;\n",
       "    }\n",
       "\n",
       "    .dataframe thead th {\n",
       "        text-align: right;\n",
       "    }\n",
       "</style>\n",
       "<table border=\"1\" class=\"dataframe\">\n",
       "  <thead>\n",
       "    <tr style=\"text-align: right;\">\n",
       "      <th></th>\n",
       "      <th>index</th>\n",
       "      <th>movie_name</th>\n",
       "      <th>year_of_release</th>\n",
       "      <th>category</th>\n",
       "      <th>run_time</th>\n",
       "      <th>genre</th>\n",
       "      <th>imdb_rating</th>\n",
       "      <th>votes</th>\n",
       "      <th>gross_total</th>\n",
       "    </tr>\n",
       "  </thead>\n",
       "  <tbody>\n",
       "    <tr>\n",
       "      <th>0</th>\n",
       "      <td>1.0</td>\n",
       "      <td>The Godfather</td>\n",
       "      <td>1972</td>\n",
       "      <td>R</td>\n",
       "      <td>175 min</td>\n",
       "      <td>Comedy</td>\n",
       "      <td>9.2</td>\n",
       "      <td>1860471</td>\n",
       "      <td>$134.97M</td>\n",
       "    </tr>\n",
       "    <tr>\n",
       "      <th>1</th>\n",
       "      <td>2.0</td>\n",
       "      <td>The Silence of the Lambs</td>\n",
       "      <td>1991</td>\n",
       "      <td>R</td>\n",
       "      <td>118 min</td>\n",
       "      <td>Crime</td>\n",
       "      <td>8.6</td>\n",
       "      <td>1435344</td>\n",
       "      <td>$130.74M</td>\n",
       "    </tr>\n",
       "    <tr>\n",
       "      <th>2</th>\n",
       "      <td>3.0</td>\n",
       "      <td>Star Wars: Episode V - The Empire Strikes Back</td>\n",
       "      <td>1980</td>\n",
       "      <td>PG</td>\n",
       "      <td>124 min</td>\n",
       "      <td>Fantasy</td>\n",
       "      <td>8.7</td>\n",
       "      <td>1294805</td>\n",
       "      <td>$290.48M</td>\n",
       "    </tr>\n",
       "    <tr>\n",
       "      <th>3</th>\n",
       "      <td>4.0</td>\n",
       "      <td>The Shawshank Redemption</td>\n",
       "      <td>1994</td>\n",
       "      <td>R</td>\n",
       "      <td>142 min</td>\n",
       "      <td>Drama</td>\n",
       "      <td>9.3</td>\n",
       "      <td>2683302</td>\n",
       "      <td>$28.34M</td>\n",
       "    </tr>\n",
       "    <tr>\n",
       "      <th>4</th>\n",
       "      <td>5.0</td>\n",
       "      <td>The Shining</td>\n",
       "      <td>1980</td>\n",
       "      <td>R</td>\n",
       "      <td>146 min</td>\n",
       "      <td>Horror</td>\n",
       "      <td>8.4</td>\n",
       "      <td>1025560</td>\n",
       "      <td>$44.02M</td>\n",
       "    </tr>\n",
       "  </tbody>\n",
       "</table>\n",
       "</div>"
      ],
      "text/plain": [
       "   index                                      movie_name  year_of_release  \\\n",
       "0    1.0                                   The Godfather             1972   \n",
       "1    2.0                        The Silence of the Lambs             1991   \n",
       "2    3.0  Star Wars: Episode V - The Empire Strikes Back             1980   \n",
       "3    4.0                        The Shawshank Redemption             1994   \n",
       "4    5.0                                     The Shining             1980   \n",
       "\n",
       "  category run_time    genre  imdb_rating    votes gross_total  \n",
       "0        R  175 min   Comedy          9.2  1860471    $134.97M  \n",
       "1        R  118 min    Crime          8.6  1435344    $130.74M  \n",
       "2       PG  124 min  Fantasy          8.7  1294805    $290.48M  \n",
       "3        R  142 min    Drama          9.3  2683302     $28.34M  \n",
       "4        R  146 min   Horror          8.4  1025560     $44.02M  "
      ]
     },
     "execution_count": 38,
     "metadata": {},
     "output_type": "execute_result"
    }
   ],
   "source": [
    "df.head()"
   ]
  },
  {
   "cell_type": "code",
   "execution_count": 39,
   "id": "78fdc354",
   "metadata": {
    "scrolled": true
   },
   "outputs": [
    {
     "data": {
      "text/html": [
       "<div>\n",
       "<style scoped>\n",
       "    .dataframe tbody tr th:only-of-type {\n",
       "        vertical-align: middle;\n",
       "    }\n",
       "\n",
       "    .dataframe tbody tr th {\n",
       "        vertical-align: top;\n",
       "    }\n",
       "\n",
       "    .dataframe thead th {\n",
       "        text-align: right;\n",
       "    }\n",
       "</style>\n",
       "<table border=\"1\" class=\"dataframe\">\n",
       "  <thead>\n",
       "    <tr style=\"text-align: right;\">\n",
       "      <th></th>\n",
       "      <th>index</th>\n",
       "      <th>year_of_release</th>\n",
       "      <th>imdb_rating</th>\n",
       "      <th>votes</th>\n",
       "    </tr>\n",
       "    <tr>\n",
       "      <th>genre</th>\n",
       "      <th></th>\n",
       "      <th></th>\n",
       "      <th></th>\n",
       "      <th></th>\n",
       "    </tr>\n",
       "  </thead>\n",
       "  <tbody>\n",
       "    <tr>\n",
       "      <th>Action</th>\n",
       "      <td>53.250000</td>\n",
       "      <td>1995.250000</td>\n",
       "      <td>8.483333</td>\n",
       "      <td>1.113771e+06</td>\n",
       "    </tr>\n",
       "    <tr>\n",
       "      <th>Adventure</th>\n",
       "      <td>39.700000</td>\n",
       "      <td>1991.100000</td>\n",
       "      <td>8.510000</td>\n",
       "      <td>1.116600e+06</td>\n",
       "    </tr>\n",
       "    <tr>\n",
       "      <th>Comedy</th>\n",
       "      <td>41.000000</td>\n",
       "      <td>1971.444444</td>\n",
       "      <td>8.277778</td>\n",
       "      <td>6.558027e+05</td>\n",
       "    </tr>\n",
       "    <tr>\n",
       "      <th>Crime</th>\n",
       "      <td>46.571429</td>\n",
       "      <td>1992.071429</td>\n",
       "      <td>8.507143</td>\n",
       "      <td>1.135994e+06</td>\n",
       "    </tr>\n",
       "    <tr>\n",
       "      <th>Drama</th>\n",
       "      <td>55.300000</td>\n",
       "      <td>1993.600000</td>\n",
       "      <td>8.390000</td>\n",
       "      <td>1.090648e+06</td>\n",
       "    </tr>\n",
       "    <tr>\n",
       "      <th>Fantasy</th>\n",
       "      <td>37.400000</td>\n",
       "      <td>1992.600000</td>\n",
       "      <td>8.260000</td>\n",
       "      <td>1.004241e+06</td>\n",
       "    </tr>\n",
       "    <tr>\n",
       "      <th>Horror</th>\n",
       "      <td>40.142857</td>\n",
       "      <td>1993.142857</td>\n",
       "      <td>8.371429</td>\n",
       "      <td>8.749870e+05</td>\n",
       "    </tr>\n",
       "    <tr>\n",
       "      <th>Mystery</th>\n",
       "      <td>59.000000</td>\n",
       "      <td>1986.100000</td>\n",
       "      <td>8.330000</td>\n",
       "      <td>6.439487e+05</td>\n",
       "    </tr>\n",
       "    <tr>\n",
       "      <th>Romance</th>\n",
       "      <td>57.090909</td>\n",
       "      <td>1970.363636</td>\n",
       "      <td>8.118182</td>\n",
       "      <td>4.030785e+05</td>\n",
       "    </tr>\n",
       "    <tr>\n",
       "      <th>Sci-Fi</th>\n",
       "      <td>62.833333</td>\n",
       "      <td>2002.250000</td>\n",
       "      <td>8.233333</td>\n",
       "      <td>1.016863e+06</td>\n",
       "    </tr>\n",
       "  </tbody>\n",
       "</table>\n",
       "</div>"
      ],
      "text/plain": [
       "               index  year_of_release  imdb_rating         votes\n",
       "genre                                                           \n",
       "Action     53.250000      1995.250000     8.483333  1.113771e+06\n",
       "Adventure  39.700000      1991.100000     8.510000  1.116600e+06\n",
       "Comedy     41.000000      1971.444444     8.277778  6.558027e+05\n",
       "Crime      46.571429      1992.071429     8.507143  1.135994e+06\n",
       "Drama      55.300000      1993.600000     8.390000  1.090648e+06\n",
       "Fantasy    37.400000      1992.600000     8.260000  1.004241e+06\n",
       "Horror     40.142857      1993.142857     8.371429  8.749870e+05\n",
       "Mystery    59.000000      1986.100000     8.330000  6.439487e+05\n",
       "Romance    57.090909      1970.363636     8.118182  4.030785e+05\n",
       "Sci-Fi     62.833333      2002.250000     8.233333  1.016863e+06"
      ]
     },
     "execution_count": 39,
     "metadata": {},
     "output_type": "execute_result"
    }
   ],
   "source": [
    "df.groupby('genre').mean()"
   ]
  },
  {
   "cell_type": "code",
   "execution_count": 40,
   "id": "c8bf4374",
   "metadata": {},
   "outputs": [],
   "source": [
    "# Yes, year_of_release, imdb_rating and votes differ by category."
   ]
  },
  {
   "cell_type": "code",
   "execution_count": 41,
   "id": "49d8c717",
   "metadata": {
    "scrolled": true
   },
   "outputs": [
    {
     "data": {
      "text/plain": [
       "[Text(0, 0, 'Comedy'),\n",
       " Text(1, 0, 'Crime'),\n",
       " Text(2, 0, 'Fantasy'),\n",
       " Text(3, 0, 'Drama'),\n",
       " Text(4, 0, 'Horror'),\n",
       " Text(5, 0, 'Romance'),\n",
       " Text(6, 0, 'Action'),\n",
       " Text(7, 0, 'Adventure'),\n",
       " Text(8, 0, 'Sci-Fi'),\n",
       " Text(9, 0, 'Mystery')]"
      ]
     },
     "execution_count": 41,
     "metadata": {},
     "output_type": "execute_result"
    },
    {
     "data": {
      "image/png": "[encoded data removed]",
      "text/plain": [
       "<Figure size 640x480 with 1 Axes>"
      ]
     },
     "metadata": {},
     "output_type": "display_data"
    }
   ],
   "source": [
    "g = sns.barplot(y=\"imdb_rating\", x=\"genre\", data=df) \n",
    "g.set_xticklabels(g.get_xticklabels(), rotation=45) # Makes text diagonal"
   ]
  },
  {
   "cell_type": "code",
   "execution_count": 42,
   "id": "3e36160e",
   "metadata": {},
   "outputs": [],
   "source": [
    "# All categories intersect each other if there is a horizontal line. \n",
    "# So there is no statistically significant difference."
   ]
  },
  {
   "cell_type": "code",
   "execution_count": 43,
   "id": "d5297a65",
   "metadata": {
    "scrolled": true
   },
   "outputs": [
    {
     "data": {
      "text/plain": [
       "[Text(0, 0, 'Comedy'),\n",
       " Text(1, 0, 'Crime'),\n",
       " Text(2, 0, 'Fantasy'),\n",
       " Text(3, 0, 'Drama'),\n",
       " Text(4, 0, 'Horror'),\n",
       " Text(5, 0, 'Romance'),\n",
       " Text(6, 0, 'Action'),\n",
       " Text(7, 0, 'Adventure'),\n",
       " Text(8, 0, 'Sci-Fi'),\n",
       " Text(9, 0, 'Mystery')]"
      ]
     },
     "execution_count": 43,
     "metadata": {},
     "output_type": "execute_result"
    },
    {
     "data": {
      "image/png": "[encoded data removed]",
      "text/plain": [
       "<Figure size 640x480 with 1 Axes>"
      ]
     },
     "metadata": {},
     "output_type": "display_data"
    }
   ],
   "source": [
    "g = sns.barplot(y=\"votes\", x=\"genre\", data=df)\n",
    "g.set_xticklabels(g.get_xticklabels(), rotation=45) # Makes text diagonal"
   ]
  },
  {
   "cell_type": "code",
   "execution_count": 44,
   "id": "4e581e50",
   "metadata": {},
   "outputs": [],
   "source": [
    "# Yes, Crime, Fantasy, Drama, Horror, Action, Adventure and Sci-Fi have a statistically \n",
    "# significant difference with Romance because the interval does not overlap."
   ]
  },
  {
   "cell_type": "code",
   "execution_count": 45,
   "id": "a3cbeb1f",
   "metadata": {
    "scrolled": true
   },
   "outputs": [
    {
     "data": {
      "text/html": [
       "<div>\n",
       "<style scoped>\n",
       "    .dataframe tbody tr th:only-of-type {\n",
       "        vertical-align: middle;\n",
       "    }\n",
       "\n",
       "    .dataframe tbody tr th {\n",
       "        vertical-align: top;\n",
       "    }\n",
       "\n",
       "    .dataframe thead th {\n",
       "        text-align: right;\n",
       "    }\n",
       "</style>\n",
       "<table border=\"1\" class=\"dataframe\">\n",
       "  <thead>\n",
       "    <tr style=\"text-align: right;\">\n",
       "      <th></th>\n",
       "      <th>index</th>\n",
       "      <th>year_of_release</th>\n",
       "      <th>imdb_rating</th>\n",
       "      <th>votes</th>\n",
       "    </tr>\n",
       "    <tr>\n",
       "      <th>category</th>\n",
       "      <th></th>\n",
       "      <th></th>\n",
       "      <th></th>\n",
       "      <th></th>\n",
       "    </tr>\n",
       "  </thead>\n",
       "  <tbody>\n",
       "    <tr>\n",
       "      <th>G</th>\n",
       "      <td>52.700000</td>\n",
       "      <td>1960.400000</td>\n",
       "      <td>8.390000</td>\n",
       "      <td>4.572364e+05</td>\n",
       "    </tr>\n",
       "    <tr>\n",
       "      <th>PG</th>\n",
       "      <td>29.714286</td>\n",
       "      <td>1967.357143</td>\n",
       "      <td>8.350000</td>\n",
       "      <td>6.517492e+05</td>\n",
       "    </tr>\n",
       "    <tr>\n",
       "      <th>PG-13</th>\n",
       "      <td>53.875000</td>\n",
       "      <td>2003.750000</td>\n",
       "      <td>8.418750</td>\n",
       "      <td>1.373895e+06</td>\n",
       "    </tr>\n",
       "    <tr>\n",
       "      <th>R</th>\n",
       "      <td>54.083333</td>\n",
       "      <td>1994.866667</td>\n",
       "      <td>8.336667</td>\n",
       "      <td>9.297756e+05</td>\n",
       "    </tr>\n",
       "  </tbody>\n",
       "</table>\n",
       "</div>"
      ],
      "text/plain": [
       "              index  year_of_release  imdb_rating         votes\n",
       "category                                                       \n",
       "G         52.700000      1960.400000     8.390000  4.572364e+05\n",
       "PG        29.714286      1967.357143     8.350000  6.517492e+05\n",
       "PG-13     53.875000      2003.750000     8.418750  1.373895e+06\n",
       "R         54.083333      1994.866667     8.336667  9.297756e+05"
      ]
     },
     "execution_count": 45,
     "metadata": {},
     "output_type": "execute_result"
    }
   ],
   "source": [
    "df.groupby('category').mean()"
   ]
  },
  {
   "cell_type": "code",
   "execution_count": 46,
   "id": "041c0c09",
   "metadata": {},
   "outputs": [],
   "source": [
    "# Yes, year_of_release, imdb_rating and votes differ by category."
   ]
  },
  {
   "cell_type": "code",
   "execution_count": 47,
   "id": "b0b67a46",
   "metadata": {},
   "outputs": [
    {
     "data": {
      "text/plain": [
       "<AxesSubplot:xlabel='category', ylabel='imdb_rating'>"
      ]
     },
     "execution_count": 47,
     "metadata": {},
     "output_type": "execute_result"
    },
    {
     "data": {
      "image/png": "[encoded data removed]",
      "text/plain": [
       "<Figure size 640x480 with 1 Axes>"
      ]
     },
     "metadata": {},
     "output_type": "display_data"
    }
   ],
   "source": [
    "sns.barplot(y=\"imdb_rating\", x=\"category\", data=df) "
   ]
  },
  {
   "cell_type": "code",
   "execution_count": 48,
   "id": "e36e0d7a",
   "metadata": {},
   "outputs": [],
   "source": [
    "# All categories intersect each other if there is a horizontal line. \n",
    "# So there is no statistically significant difference."
   ]
  },
  {
   "cell_type": "code",
   "execution_count": 49,
   "id": "1aa179c3",
   "metadata": {
    "scrolled": true
   },
   "outputs": [
    {
     "data": {
      "text/plain": [
       "<AxesSubplot:xlabel='category', ylabel='votes'>"
      ]
     },
     "execution_count": 49,
     "metadata": {},
     "output_type": "execute_result"
    },
    {
     "data": {
      "image/png": "[encoded data removed]",
      "text/plain": [
       "<Figure size 640x480 with 1 Axes>"
      ]
     },
     "metadata": {},
     "output_type": "display_data"
    }
   ],
   "source": [
    "sns.barplot(y=\"votes\", x=\"category\", data=df) "
   ]
  },
  {
   "cell_type": "code",
   "execution_count": 50,
   "id": "bff247d0",
   "metadata": {},
   "outputs": [],
   "source": [
    "# Yes, R and PG-13 have a statistically significant difference with G because the interval does not overlap.\n",
    "# The same goes voor PG-13 and PG."
   ]
  },
  {
   "cell_type": "code",
   "execution_count": null,
   "id": "b5c4b27e",
   "metadata": {},
   "outputs": [],
   "source": []
  }
 ],
 "metadata": {
  "kernelspec": {
   "display_name": "Python 3 (ipykernel)",
   "language": "python",
   "name": "python3"
  },
  "language_info": {
   "codemirror_mode": {
    "name": "ipython",
    "version": 3
   },
   "file_extension": ".py",
   "mimetype": "text/x-python",
   "name": "python",
   "nbconvert_exporter": "python",
   "pygments_lexer": "ipython3",
   "version": "3.9.13"
  }
 },
 "nbformat": 4,
 "nbformat_minor": 5
}
