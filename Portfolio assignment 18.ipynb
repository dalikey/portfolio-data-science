{
 "cells": [
  {
   "cell_type": "code",
   "execution_count": 81,
   "id": "91a78a80",
   "metadata": {},
   "outputs": [],
   "source": [
    "import pandas as pd\n",
    "import seaborn as sns\n",
    "import numpy as np"
   ]
  },
  {
   "cell_type": "code",
   "execution_count": 82,
   "id": "c34381ed",
   "metadata": {
    "scrolled": true
   },
   "outputs": [
    {
     "data": {
      "text/html": [
       "<div>\n",
       "<style scoped>\n",
       "    .dataframe tbody tr th:only-of-type {\n",
       "        vertical-align: middle;\n",
       "    }\n",
       "\n",
       "    .dataframe tbody tr th {\n",
       "        vertical-align: top;\n",
       "    }\n",
       "\n",
       "    .dataframe thead th {\n",
       "        text-align: right;\n",
       "    }\n",
       "</style>\n",
       "<table border=\"1\" class=\"dataframe\">\n",
       "  <thead>\n",
       "    <tr style=\"text-align: right;\">\n",
       "      <th></th>\n",
       "      <th>index</th>\n",
       "      <th>movie_name</th>\n",
       "      <th>year_of_release</th>\n",
       "      <th>category</th>\n",
       "      <th>run_time</th>\n",
       "      <th>genre</th>\n",
       "      <th>imdb_rating</th>\n",
       "      <th>votes</th>\n",
       "      <th>gross_total</th>\n",
       "    </tr>\n",
       "  </thead>\n",
       "  <tbody>\n",
       "    <tr>\n",
       "      <th>0</th>\n",
       "      <td>1.0</td>\n",
       "      <td>The Godfather</td>\n",
       "      <td>1972</td>\n",
       "      <td>R</td>\n",
       "      <td>175 min</td>\n",
       "      <td>Comedy</td>\n",
       "      <td>9.2</td>\n",
       "      <td>1860471</td>\n",
       "      <td>$134.97M</td>\n",
       "    </tr>\n",
       "    <tr>\n",
       "      <th>1</th>\n",
       "      <td>2.0</td>\n",
       "      <td>The Silence of the Lambs</td>\n",
       "      <td>1991</td>\n",
       "      <td>R</td>\n",
       "      <td>118 min</td>\n",
       "      <td>Crime</td>\n",
       "      <td>8.6</td>\n",
       "      <td>1435344</td>\n",
       "      <td>$130.74M</td>\n",
       "    </tr>\n",
       "    <tr>\n",
       "      <th>2</th>\n",
       "      <td>3.0</td>\n",
       "      <td>Star Wars: Episode V - The Empire Strikes Back</td>\n",
       "      <td>1980</td>\n",
       "      <td>PG</td>\n",
       "      <td>124 min</td>\n",
       "      <td>Fantasy</td>\n",
       "      <td>8.7</td>\n",
       "      <td>1294805</td>\n",
       "      <td>$290.48M</td>\n",
       "    </tr>\n",
       "    <tr>\n",
       "      <th>3</th>\n",
       "      <td>4.0</td>\n",
       "      <td>The Shawshank Redemption</td>\n",
       "      <td>1994</td>\n",
       "      <td>R</td>\n",
       "      <td>142 min</td>\n",
       "      <td>Drama</td>\n",
       "      <td>9.3</td>\n",
       "      <td>2683302</td>\n",
       "      <td>$28.34M</td>\n",
       "    </tr>\n",
       "    <tr>\n",
       "      <th>4</th>\n",
       "      <td>5.0</td>\n",
       "      <td>The Shining</td>\n",
       "      <td>1980</td>\n",
       "      <td>R</td>\n",
       "      <td>146 min</td>\n",
       "      <td>Horror</td>\n",
       "      <td>8.4</td>\n",
       "      <td>1025560</td>\n",
       "      <td>$44.02M</td>\n",
       "    </tr>\n",
       "  </tbody>\n",
       "</table>\n",
       "</div>"
      ],
      "text/plain": [
       "   index                                      movie_name  year_of_release  \\\n",
       "0    1.0                                   The Godfather             1972   \n",
       "1    2.0                        The Silence of the Lambs             1991   \n",
       "2    3.0  Star Wars: Episode V - The Empire Strikes Back             1980   \n",
       "3    4.0                        The Shawshank Redemption             1994   \n",
       "4    5.0                                     The Shining             1980   \n",
       "\n",
       "  category run_time    genre  imdb_rating    votes gross_total  \n",
       "0        R  175 min   Comedy          9.2  1860471    $134.97M  \n",
       "1        R  118 min    Crime          8.6  1435344    $130.74M  \n",
       "2       PG  124 min  Fantasy          8.7  1294805    $290.48M  \n",
       "3        R  142 min    Drama          9.3  2683302     $28.34M  \n",
       "4        R  146 min   Horror          8.4  1025560     $44.02M  "
      ]
     },
     "execution_count": 82,
     "metadata": {},
     "output_type": "execute_result"
    }
   ],
   "source": [
    "df = pd.read_csv('movies.csv', sep=';', thousands=',')\n",
    "df.head()"
   ]
  },
  {
   "cell_type": "code",
   "execution_count": 83,
   "id": "5b69c259",
   "metadata": {
    "scrolled": true
   },
   "outputs": [
    {
     "data": {
      "text/plain": [
       "index              0\n",
       "movie_name         0\n",
       "year_of_release    0\n",
       "category           0\n",
       "run_time           0\n",
       "genre              0\n",
       "imdb_rating        0\n",
       "votes              0\n",
       "gross_total        1\n",
       "dtype: int64"
      ]
     },
     "execution_count": 83,
     "metadata": {},
     "output_type": "execute_result"
    }
   ],
   "source": [
    "df.isna().sum()"
   ]
  },
  {
   "cell_type": "code",
   "execution_count": 84,
   "id": "9cd285a2",
   "metadata": {},
   "outputs": [],
   "source": [
    "from sklearn.model_selection import train_test_split"
   ]
  },
  {
   "cell_type": "code",
   "execution_count": 85,
   "id": "45fbb117",
   "metadata": {
    "scrolled": true
   },
   "outputs": [
    {
     "name": "stdout",
     "output_type": "stream",
     "text": [
      "(70, 9) (30, 9)\n"
     ]
    }
   ],
   "source": [
    "df_train, df_test = train_test_split(df, test_size=0.3, random_state=42, stratify=df['genre'])\n",
    "print(df_train.shape, df_test.shape)"
   ]
  },
  {
   "cell_type": "code",
   "execution_count": 86,
   "id": "03edc31d",
   "metadata": {},
   "outputs": [],
   "source": [
    "# df_train has 70 rows and 9 columns\n",
    "# df_test has 30 rows and 9 columns"
   ]
  },
  {
   "cell_type": "code",
   "execution_count": 87,
   "id": "90051845",
   "metadata": {
    "scrolled": false
   },
   "outputs": [
    {
     "data": {
      "text/html": [
       "<div>\n",
       "<style scoped>\n",
       "    .dataframe tbody tr th:only-of-type {\n",
       "        vertical-align: middle;\n",
       "    }\n",
       "\n",
       "    .dataframe tbody tr th {\n",
       "        vertical-align: top;\n",
       "    }\n",
       "\n",
       "    .dataframe thead th {\n",
       "        text-align: right;\n",
       "    }\n",
       "</style>\n",
       "<table border=\"1\" class=\"dataframe\">\n",
       "  <thead>\n",
       "    <tr style=\"text-align: right;\">\n",
       "      <th></th>\n",
       "      <th>index</th>\n",
       "      <th>year_of_release</th>\n",
       "      <th>imdb_rating</th>\n",
       "      <th>votes</th>\n",
       "    </tr>\n",
       "  </thead>\n",
       "  <tbody>\n",
       "    <tr>\n",
       "      <th>index</th>\n",
       "      <td>1.000000</td>\n",
       "      <td>0.307025</td>\n",
       "      <td>-0.462513</td>\n",
       "      <td>-0.361272</td>\n",
       "    </tr>\n",
       "    <tr>\n",
       "      <th>year_of_release</th>\n",
       "      <td>0.307025</td>\n",
       "      <td>1.000000</td>\n",
       "      <td>-0.054700</td>\n",
       "      <td>0.423323</td>\n",
       "    </tr>\n",
       "    <tr>\n",
       "      <th>imdb_rating</th>\n",
       "      <td>-0.462513</td>\n",
       "      <td>-0.054700</td>\n",
       "      <td>1.000000</td>\n",
       "      <td>0.666751</td>\n",
       "    </tr>\n",
       "    <tr>\n",
       "      <th>votes</th>\n",
       "      <td>-0.361272</td>\n",
       "      <td>0.423323</td>\n",
       "      <td>0.666751</td>\n",
       "      <td>1.000000</td>\n",
       "    </tr>\n",
       "  </tbody>\n",
       "</table>\n",
       "</div>"
      ],
      "text/plain": [
       "                    index  year_of_release  imdb_rating     votes\n",
       "index            1.000000         0.307025    -0.462513 -0.361272\n",
       "year_of_release  0.307025         1.000000    -0.054700  0.423323\n",
       "imdb_rating     -0.462513        -0.054700     1.000000  0.666751\n",
       "votes           -0.361272         0.423323     0.666751  1.000000"
      ]
     },
     "execution_count": 87,
     "metadata": {},
     "output_type": "execute_result"
    }
   ],
   "source": [
    "df.corr() # to find out which features correlate"
   ]
  },
  {
   "cell_type": "code",
   "execution_count": 88,
   "id": "b873f49b",
   "metadata": {},
   "outputs": [],
   "source": [
    "from sklearn.tree import DecisionTreeRegressor"
   ]
  },
  {
   "cell_type": "code",
   "execution_count": 89,
   "id": "b80c9d11",
   "metadata": {
    "scrolled": true
   },
   "outputs": [
    {
     "data": {
      "text/plain": [
       "DecisionTreeRegressor(max_depth=3)"
      ]
     },
     "execution_count": 89,
     "metadata": {},
     "output_type": "execute_result"
    }
   ],
   "source": [
    "features= ['imdb_rating', 'votes']\n",
    "dt_regression = DecisionTreeRegressor(max_depth = 3) # Increase max_depth to see effect in the plot\n",
    "dt_regression.fit(df_train[features], df_train['imdb_rating'])"
   ]
  },
  {
   "cell_type": "code",
   "execution_count": 90,
   "id": "d2b0a827",
   "metadata": {},
   "outputs": [],
   "source": [
    "def calculate_rmse(predictions, actuals):\n",
    "    if(len(predictions) != len(actuals)):\n",
    "        raise Exception(\"The amount of predictions did not equal the amount of actuals\")\n",
    "    \n",
    "    return (((predictions - actuals) ** 2).sum() / len(actuals)) ** (1/2)"
   ]
  },
  {
   "cell_type": "code",
   "execution_count": 91,
   "id": "a302f566",
   "metadata": {},
   "outputs": [
    {
     "name": "stdout",
     "output_type": "stream",
     "text": [
      "RMSE on training set 0.05734883511361735\n",
      "RMSE on test set 0.11159671662057893\n"
     ]
    }
   ],
   "source": [
    "predictionsOnTrainset = dt_regression.predict(df_train[features])\n",
    "predictionsOnTestset = dt_regression.predict(df_test[features])\n",
    "\n",
    "rmseTrain = calculate_rmse(predictionsOnTrainset, df_train.imdb_rating)\n",
    "rmseTest = calculate_rmse(predictionsOnTestset, df_test.imdb_rating)\n",
    "\n",
    "print(\"RMSE on training set \" + str(rmseTrain))\n",
    "print(\"RMSE on test set \" + str(rmseTest))"
   ]
  },
  {
   "cell_type": "code",
   "execution_count": 92,
   "id": "0158ace5",
   "metadata": {},
   "outputs": [],
   "source": [
    "# RMSE measures the average difference between the predicted values and the actual values in a dataset"
   ]
  },
  {
   "cell_type": "code",
   "execution_count": 93,
   "id": "f91d047d",
   "metadata": {},
   "outputs": [],
   "source": [
    "# Yes, the RMSE on the test set has a higher value. I did expect this difference, because \n",
    "# on a test set it would make more sense that the value would be higher because of new \n",
    "# values that are not trained."
   ]
  },
  {
   "cell_type": "code",
   "execution_count": 94,
   "id": "53baf6e2",
   "metadata": {},
   "outputs": [],
   "source": [
    "from sklearn import tree\n",
    "import graphviz\n",
    "\n",
    "def plot_tree_regression(model, features):\n",
    "    # Generate plot data\n",
    "    dot_data = tree.export_graphviz(model, out_file=None, \n",
    "                          feature_names=features,  \n",
    "                          filled=True, rounded=True,  \n",
    "                          special_characters=True)  \n",
    "\n",
    "    # Turn into graph using graphviz\n",
    "    graph = graphviz.Source(dot_data)  \n",
    "\n",
    "    # Write out a pdf\n",
    "    graph.render(\"decision_tree\")\n",
    "\n",
    "    # Display in the notebook\n",
    "    return graph "
   ]
  },
  {
   "cell_type": "code",
   "execution_count": 95,
   "id": "722ad9b4",
   "metadata": {
    "scrolled": true
   },
   "outputs": [
    {
     "data": {
      "image/svg+xml": [
       "<?xml version=\"1.0\" encoding=\"UTF-8\" standalone=\"no\"?>\n",
       "<!DOCTYPE svg PUBLIC \"-//W3C//DTD SVG 1.1//EN\"\n",
       " \"http://www.w3.org/Graphics/SVG/1.1/DTD/svg11.dtd\">\n",
       "<!-- Generated by graphviz version 2.50.0 (0)\n",
       " -->\n",
       "<!-- Title: Tree Pages: 1 -->\n",
       "<svg width=\"1328pt\" height=\"373pt\"\n",
       " viewBox=\"0.00 0.00 1328.00 373.00\" xmlns=\"http://www.w3.org/2000/svg\" xmlns:xlink=\"http://www.w3.org/1999/xlink\">\n",
       "<g id=\"graph0\" class=\"graph\" transform=\"scale(1 1) rotate(0) translate(4 369)\">\n",
       "<title>Tree</title>\n",
       "<polygon fill=\"white\" stroke=\"transparent\" points=\"-4,4 -4,-369 1324,-369 1324,4 -4,4\"/>\n",
       "<!-- 0 -->\n",
       "<g id=\"node1\" class=\"node\">\n",
       "<title>0</title>\n",
       "<path fill=\"#f2c09c\" stroke=\"black\" d=\"M723,-365C723,-365 596,-365 596,-365 590,-365 584,-359 584,-353 584,-353 584,-309 584,-309 584,-303 590,-297 596,-297 596,-297 723,-297 723,-297 729,-297 735,-303 735,-309 735,-309 735,-353 735,-353 735,-359 729,-365 723,-365\"/>\n",
       "<text text-anchor=\"start\" x=\"603\" y=\"-349.8\" font-family=\"Helvetica,sans-Serif\" font-size=\"14.00\">imdb_rating ≤ 8.45</text>\n",
       "<text text-anchor=\"start\" x=\"592\" y=\"-334.8\" font-family=\"Helvetica,sans-Serif\" font-size=\"14.00\">squared_error = 0.127</text>\n",
       "<text text-anchor=\"start\" x=\"618.5\" y=\"-319.8\" font-family=\"Helvetica,sans-Serif\" font-size=\"14.00\">samples = 70</text>\n",
       "<text text-anchor=\"start\" x=\"618.5\" y=\"-304.8\" font-family=\"Helvetica,sans-Serif\" font-size=\"14.00\">value = 8.381</text>\n",
       "</g>\n",
       "<!-- 1 -->\n",
       "<g id=\"node2\" class=\"node\">\n",
       "<title>1</title>\n",
       "<path fill=\"#f7d6bf\" stroke=\"black\" d=\"M558,-261C558,-261 431,-261 431,-261 425,-261 419,-255 419,-249 419,-249 419,-205 419,-205 419,-199 425,-193 431,-193 431,-193 558,-193 558,-193 564,-193 570,-199 570,-205 570,-205 570,-249 570,-249 570,-255 564,-261 558,-261\"/>\n",
       "<text text-anchor=\"start\" x=\"438\" y=\"-245.8\" font-family=\"Helvetica,sans-Serif\" font-size=\"14.00\">imdb_rating ≤ 8.05</text>\n",
       "<text text-anchor=\"start\" x=\"427\" y=\"-230.8\" font-family=\"Helvetica,sans-Serif\" font-size=\"14.00\">squared_error = 0.047</text>\n",
       "<text text-anchor=\"start\" x=\"453.5\" y=\"-215.8\" font-family=\"Helvetica,sans-Serif\" font-size=\"14.00\">samples = 41</text>\n",
       "<text text-anchor=\"start\" x=\"453.5\" y=\"-200.8\" font-family=\"Helvetica,sans-Serif\" font-size=\"14.00\">value = 8.144</text>\n",
       "</g>\n",
       "<!-- 0&#45;&gt;1 -->\n",
       "<g id=\"edge1\" class=\"edge\">\n",
       "<title>0&#45;&gt;1</title>\n",
       "<path fill=\"none\" stroke=\"black\" d=\"M605.93,-296.88C590.29,-287.21 573.06,-276.56 556.92,-266.59\"/>\n",
       "<polygon fill=\"black\" stroke=\"black\" points=\"558.43,-263.41 548.08,-261.12 554.75,-269.36 558.43,-263.41\"/>\n",
       "<text text-anchor=\"middle\" x=\"553.83\" y=\"-281.76\" font-family=\"Helvetica,sans-Serif\" font-size=\"14.00\">True</text>\n",
       "</g>\n",
       "<!-- 8 -->\n",
       "<g id=\"node9\" class=\"node\">\n",
       "<title>8</title>\n",
       "<path fill=\"#eca16c\" stroke=\"black\" d=\"M889,-261C889,-261 762,-261 762,-261 756,-261 750,-255 750,-249 750,-249 750,-205 750,-205 750,-199 756,-193 762,-193 762,-193 889,-193 889,-193 895,-193 901,-199 901,-205 901,-205 901,-249 901,-249 901,-255 895,-261 889,-261\"/>\n",
       "<text text-anchor=\"start\" x=\"769\" y=\"-245.8\" font-family=\"Helvetica,sans-Serif\" font-size=\"14.00\">imdb_rating ≤ 8.75</text>\n",
       "<text text-anchor=\"start\" x=\"758\" y=\"-230.8\" font-family=\"Helvetica,sans-Serif\" font-size=\"14.00\">squared_error = 0.046</text>\n",
       "<text text-anchor=\"start\" x=\"784.5\" y=\"-215.8\" font-family=\"Helvetica,sans-Serif\" font-size=\"14.00\">samples = 29</text>\n",
       "<text text-anchor=\"start\" x=\"784.5\" y=\"-200.8\" font-family=\"Helvetica,sans-Serif\" font-size=\"14.00\">value = 8.717</text>\n",
       "</g>\n",
       "<!-- 0&#45;&gt;8 -->\n",
       "<g id=\"edge8\" class=\"edge\">\n",
       "<title>0&#45;&gt;8</title>\n",
       "<path fill=\"none\" stroke=\"black\" d=\"M713.4,-296.88C729.13,-287.21 746.47,-276.56 762.7,-266.59\"/>\n",
       "<polygon fill=\"black\" stroke=\"black\" points=\"764.9,-269.34 771.59,-261.12 761.24,-263.38 764.9,-269.34\"/>\n",
       "<text text-anchor=\"middle\" x=\"765.78\" y=\"-281.74\" font-family=\"Helvetica,sans-Serif\" font-size=\"14.00\">False</text>\n",
       "</g>\n",
       "<!-- 2 -->\n",
       "<g id=\"node3\" class=\"node\">\n",
       "<title>2</title>\n",
       "<path fill=\"#fcf2ea\" stroke=\"black\" d=\"M308,-157C308,-157 181,-157 181,-157 175,-157 169,-151 169,-145 169,-145 169,-101 169,-101 169,-95 175,-89 181,-89 181,-89 308,-89 308,-89 314,-89 320,-95 320,-101 320,-101 320,-145 320,-145 320,-151 314,-157 308,-157\"/>\n",
       "<text text-anchor=\"start\" x=\"188\" y=\"-141.8\" font-family=\"Helvetica,sans-Serif\" font-size=\"14.00\">imdb_rating ≤ 7.85</text>\n",
       "<text text-anchor=\"start\" x=\"177\" y=\"-126.8\" font-family=\"Helvetica,sans-Serif\" font-size=\"14.00\">squared_error = 0.024</text>\n",
       "<text text-anchor=\"start\" x=\"203.5\" y=\"-111.8\" font-family=\"Helvetica,sans-Serif\" font-size=\"14.00\">samples = 11</text>\n",
       "<text text-anchor=\"start\" x=\"203.5\" y=\"-96.8\" font-family=\"Helvetica,sans-Serif\" font-size=\"14.00\">value = 7.845</text>\n",
       "</g>\n",
       "<!-- 1&#45;&gt;2 -->\n",
       "<g id=\"edge2\" class=\"edge\">\n",
       "<title>1&#45;&gt;2</title>\n",
       "<path fill=\"none\" stroke=\"black\" d=\"M418.81,-195.12C390.67,-183.64 358.56,-170.54 329.63,-158.73\"/>\n",
       "<polygon fill=\"black\" stroke=\"black\" points=\"330.94,-155.49 320.36,-154.95 328.3,-161.97 330.94,-155.49\"/>\n",
       "</g>\n",
       "<!-- 5 -->\n",
       "<g id=\"node6\" class=\"node\">\n",
       "<title>5</title>\n",
       "<path fill=\"#f4ccaf\" stroke=\"black\" d=\"M557.5,-157C557.5,-157 431.5,-157 431.5,-157 425.5,-157 419.5,-151 419.5,-145 419.5,-145 419.5,-101 419.5,-101 419.5,-95 425.5,-89 431.5,-89 431.5,-89 557.5,-89 557.5,-89 563.5,-89 569.5,-95 569.5,-101 569.5,-101 569.5,-145 569.5,-145 569.5,-151 563.5,-157 557.5,-157\"/>\n",
       "<text text-anchor=\"start\" x=\"438\" y=\"-141.8\" font-family=\"Helvetica,sans-Serif\" font-size=\"14.00\">imdb_rating ≤ 8.25</text>\n",
       "<text text-anchor=\"start\" x=\"427.5\" y=\"-126.8\" font-family=\"Helvetica,sans-Serif\" font-size=\"14.00\">squared_error = 0.011</text>\n",
       "<text text-anchor=\"start\" x=\"453.5\" y=\"-111.8\" font-family=\"Helvetica,sans-Serif\" font-size=\"14.00\">samples = 30</text>\n",
       "<text text-anchor=\"start\" x=\"453.5\" y=\"-96.8\" font-family=\"Helvetica,sans-Serif\" font-size=\"14.00\">value = 8.253</text>\n",
       "</g>\n",
       "<!-- 1&#45;&gt;5 -->\n",
       "<g id=\"edge5\" class=\"edge\">\n",
       "<title>1&#45;&gt;5</title>\n",
       "<path fill=\"none\" stroke=\"black\" d=\"M494.5,-192.88C494.5,-184.78 494.5,-175.98 494.5,-167.47\"/>\n",
       "<polygon fill=\"black\" stroke=\"black\" points=\"498,-167.3 494.5,-157.3 491,-167.3 498,-167.3\"/>\n",
       "</g>\n",
       "<!-- 3 -->\n",
       "<g id=\"node4\" class=\"node\">\n",
       "<title>3</title>\n",
       "<path fill=\"#ffffff\" stroke=\"black\" d=\"M139,-53C139,-53 12,-53 12,-53 6,-53 0,-47 0,-41 0,-41 0,-12 0,-12 0,-6 6,0 12,0 12,0 139,0 139,0 145,0 151,-6 151,-12 151,-12 151,-41 151,-41 151,-47 145,-53 139,-53\"/>\n",
       "<text text-anchor=\"start\" x=\"8\" y=\"-37.8\" font-family=\"Helvetica,sans-Serif\" font-size=\"14.00\">squared_error = 0.012</text>\n",
       "<text text-anchor=\"start\" x=\"38\" y=\"-22.8\" font-family=\"Helvetica,sans-Serif\" font-size=\"14.00\">samples = 5</text>\n",
       "<text text-anchor=\"start\" x=\"42\" y=\"-7.8\" font-family=\"Helvetica,sans-Serif\" font-size=\"14.00\">value = 7.7</text>\n",
       "</g>\n",
       "<!-- 2&#45;&gt;3 -->\n",
       "<g id=\"edge3\" class=\"edge\">\n",
       "<title>2&#45;&gt;3</title>\n",
       "<path fill=\"none\" stroke=\"black\" d=\"M185.39,-88.95C167.48,-78.93 147.89,-67.98 130.27,-58.13\"/>\n",
       "<polygon fill=\"black\" stroke=\"black\" points=\"131.69,-54.91 121.26,-53.09 128.28,-61.02 131.69,-54.91\"/>\n",
       "</g>\n",
       "<!-- 4 -->\n",
       "<g id=\"node5\" class=\"node\">\n",
       "<title>4</title>\n",
       "<path fill=\"#fae6d8\" stroke=\"black\" d=\"M308,-53C308,-53 181,-53 181,-53 175,-53 169,-47 169,-41 169,-41 169,-12 169,-12 169,-6 175,0 181,0 181,0 308,0 308,0 314,0 320,-6 320,-12 320,-12 320,-41 320,-41 320,-47 314,-53 308,-53\"/>\n",
       "<text text-anchor=\"start\" x=\"177\" y=\"-37.8\" font-family=\"Helvetica,sans-Serif\" font-size=\"14.00\">squared_error = 0.002</text>\n",
       "<text text-anchor=\"start\" x=\"207\" y=\"-22.8\" font-family=\"Helvetica,sans-Serif\" font-size=\"14.00\">samples = 6</text>\n",
       "<text text-anchor=\"start\" x=\"203.5\" y=\"-7.8\" font-family=\"Helvetica,sans-Serif\" font-size=\"14.00\">value = 7.967</text>\n",
       "</g>\n",
       "<!-- 2&#45;&gt;4 -->\n",
       "<g id=\"edge4\" class=\"edge\">\n",
       "<title>2&#45;&gt;4</title>\n",
       "<path fill=\"none\" stroke=\"black\" d=\"M244.5,-88.95C244.5,-80.72 244.5,-71.85 244.5,-63.48\"/>\n",
       "<polygon fill=\"black\" stroke=\"black\" points=\"248,-63.24 244.5,-53.24 241,-63.24 248,-63.24\"/>\n",
       "</g>\n",
       "<!-- 6 -->\n",
       "<g id=\"node7\" class=\"node\">\n",
       "<title>6</title>\n",
       "<path fill=\"#f6d5bc\" stroke=\"black\" d=\"M477,-53C477,-53 350,-53 350,-53 344,-53 338,-47 338,-41 338,-41 338,-12 338,-12 338,-6 344,0 350,0 350,0 477,0 477,0 483,0 489,-6 489,-12 489,-12 489,-41 489,-41 489,-47 483,-53 477,-53\"/>\n",
       "<text text-anchor=\"start\" x=\"346\" y=\"-37.8\" font-family=\"Helvetica,sans-Serif\" font-size=\"14.00\">squared_error = 0.002</text>\n",
       "<text text-anchor=\"start\" x=\"372.5\" y=\"-22.8\" font-family=\"Helvetica,sans-Serif\" font-size=\"14.00\">samples = 15</text>\n",
       "<text text-anchor=\"start\" x=\"376\" y=\"-7.8\" font-family=\"Helvetica,sans-Serif\" font-size=\"14.00\">value = 8.16</text>\n",
       "</g>\n",
       "<!-- 5&#45;&gt;6 -->\n",
       "<g id=\"edge6\" class=\"edge\">\n",
       "<title>5&#45;&gt;6</title>\n",
       "<path fill=\"none\" stroke=\"black\" d=\"M466.17,-88.95C458.41,-79.89 449.99,-70.07 442.2,-60.99\"/>\n",
       "<polygon fill=\"black\" stroke=\"black\" points=\"444.73,-58.55 435.56,-53.24 439.41,-63.11 444.73,-58.55\"/>\n",
       "</g>\n",
       "<!-- 7 -->\n",
       "<g id=\"node8\" class=\"node\">\n",
       "<title>7</title>\n",
       "<path fill=\"#f3c3a1\" stroke=\"black\" d=\"M646,-53C646,-53 519,-53 519,-53 513,-53 507,-47 507,-41 507,-41 507,-12 507,-12 507,-6 513,0 519,0 519,0 646,0 646,0 652,0 658,-6 658,-12 658,-12 658,-41 658,-41 658,-47 652,-53 646,-53\"/>\n",
       "<text text-anchor=\"start\" x=\"515\" y=\"-37.8\" font-family=\"Helvetica,sans-Serif\" font-size=\"14.00\">squared_error = 0.002</text>\n",
       "<text text-anchor=\"start\" x=\"541.5\" y=\"-22.8\" font-family=\"Helvetica,sans-Serif\" font-size=\"14.00\">samples = 15</text>\n",
       "<text text-anchor=\"start\" x=\"541.5\" y=\"-7.8\" font-family=\"Helvetica,sans-Serif\" font-size=\"14.00\">value = 8.347</text>\n",
       "</g>\n",
       "<!-- 5&#45;&gt;7 -->\n",
       "<g id=\"edge7\" class=\"edge\">\n",
       "<title>5&#45;&gt;7</title>\n",
       "<path fill=\"none\" stroke=\"black\" d=\"M525.28,-88.95C533.8,-79.8 543.04,-69.87 551.57,-60.71\"/>\n",
       "<polygon fill=\"black\" stroke=\"black\" points=\"554.28,-62.94 558.53,-53.24 549.16,-58.17 554.28,-62.94\"/>\n",
       "</g>\n",
       "<!-- 9 -->\n",
       "<g id=\"node10\" class=\"node\">\n",
       "<title>9</title>\n",
       "<path fill=\"#eeaf81\" stroke=\"black\" d=\"M889,-157C889,-157 762,-157 762,-157 756,-157 750,-151 750,-145 750,-145 750,-101 750,-101 750,-95 756,-89 762,-89 762,-89 889,-89 889,-89 895,-89 901,-95 901,-101 901,-101 901,-145 901,-145 901,-151 895,-157 889,-157\"/>\n",
       "<text text-anchor=\"start\" x=\"769\" y=\"-141.8\" font-family=\"Helvetica,sans-Serif\" font-size=\"14.00\">imdb_rating ≤ 8.55</text>\n",
       "<text text-anchor=\"start\" x=\"758\" y=\"-126.8\" font-family=\"Helvetica,sans-Serif\" font-size=\"14.00\">squared_error = 0.006</text>\n",
       "<text text-anchor=\"start\" x=\"784.5\" y=\"-111.8\" font-family=\"Helvetica,sans-Serif\" font-size=\"14.00\">samples = 18</text>\n",
       "<text text-anchor=\"start\" x=\"784.5\" y=\"-96.8\" font-family=\"Helvetica,sans-Serif\" font-size=\"14.00\">value = 8.572</text>\n",
       "</g>\n",
       "<!-- 8&#45;&gt;9 -->\n",
       "<g id=\"edge9\" class=\"edge\">\n",
       "<title>8&#45;&gt;9</title>\n",
       "<path fill=\"none\" stroke=\"black\" d=\"M825.5,-192.88C825.5,-184.78 825.5,-175.98 825.5,-167.47\"/>\n",
       "<polygon fill=\"black\" stroke=\"black\" points=\"829,-167.3 825.5,-157.3 822,-167.3 829,-167.3\"/>\n",
       "</g>\n",
       "<!-- 12 -->\n",
       "<g id=\"node13\" class=\"node\">\n",
       "<title>12</title>\n",
       "<path fill=\"#e78b49\" stroke=\"black\" d=\"M1139,-157C1139,-157 1012,-157 1012,-157 1006,-157 1000,-151 1000,-145 1000,-145 1000,-101 1000,-101 1000,-95 1006,-89 1012,-89 1012,-89 1139,-89 1139,-89 1145,-89 1151,-95 1151,-101 1151,-101 1151,-145 1151,-145 1151,-151 1145,-157 1139,-157\"/>\n",
       "<text text-anchor=\"start\" x=\"1019\" y=\"-141.8\" font-family=\"Helvetica,sans-Serif\" font-size=\"14.00\">imdb_rating ≤ 8.95</text>\n",
       "<text text-anchor=\"start\" x=\"1008\" y=\"-126.8\" font-family=\"Helvetica,sans-Serif\" font-size=\"14.00\">squared_error = 0.021</text>\n",
       "<text text-anchor=\"start\" x=\"1034.5\" y=\"-111.8\" font-family=\"Helvetica,sans-Serif\" font-size=\"14.00\">samples = 11</text>\n",
       "<text text-anchor=\"start\" x=\"1034.5\" y=\"-96.8\" font-family=\"Helvetica,sans-Serif\" font-size=\"14.00\">value = 8.955</text>\n",
       "</g>\n",
       "<!-- 8&#45;&gt;12 -->\n",
       "<g id=\"edge12\" class=\"edge\">\n",
       "<title>8&#45;&gt;12</title>\n",
       "<path fill=\"none\" stroke=\"black\" d=\"M901.19,-195.12C929.33,-183.64 961.44,-170.54 990.37,-158.73\"/>\n",
       "<polygon fill=\"black\" stroke=\"black\" points=\"991.7,-161.97 999.64,-154.95 989.06,-155.49 991.7,-161.97\"/>\n",
       "</g>\n",
       "<!-- 10 -->\n",
       "<g id=\"node11\" class=\"node\">\n",
       "<title>10</title>\n",
       "<path fill=\"#f0b58b\" stroke=\"black\" d=\"M800.5,-53C800.5,-53 688.5,-53 688.5,-53 682.5,-53 676.5,-47 676.5,-41 676.5,-41 676.5,-12 676.5,-12 676.5,-6 682.5,0 688.5,0 688.5,0 800.5,0 800.5,0 806.5,0 812.5,-6 812.5,-12 812.5,-12 812.5,-41 812.5,-41 812.5,-47 806.5,-53 800.5,-53\"/>\n",
       "<text text-anchor=\"start\" x=\"684.5\" y=\"-37.8\" font-family=\"Helvetica,sans-Serif\" font-size=\"14.00\">squared_error = 0.0</text>\n",
       "<text text-anchor=\"start\" x=\"707\" y=\"-22.8\" font-family=\"Helvetica,sans-Serif\" font-size=\"14.00\">samples = 9</text>\n",
       "<text text-anchor=\"start\" x=\"711\" y=\"-7.8\" font-family=\"Helvetica,sans-Serif\" font-size=\"14.00\">value = 8.5</text>\n",
       "</g>\n",
       "<!-- 9&#45;&gt;10 -->\n",
       "<g id=\"edge10\" class=\"edge\">\n",
       "<title>9&#45;&gt;10</title>\n",
       "<path fill=\"none\" stroke=\"black\" d=\"M797.17,-88.95C789.41,-79.89 780.99,-70.07 773.2,-60.99\"/>\n",
       "<polygon fill=\"black\" stroke=\"black\" points=\"775.73,-58.55 766.56,-53.24 770.41,-63.11 775.73,-58.55\"/>\n",
       "</g>\n",
       "<!-- 11 -->\n",
       "<g id=\"node12\" class=\"node\">\n",
       "<title>11</title>\n",
       "<path fill=\"#eda876\" stroke=\"black\" d=\"M970,-53C970,-53 843,-53 843,-53 837,-53 831,-47 831,-41 831,-41 831,-12 831,-12 831,-6 837,0 843,0 843,0 970,0 970,0 976,0 982,-6 982,-12 982,-12 982,-41 982,-41 982,-47 976,-53 970,-53\"/>\n",
       "<text text-anchor=\"start\" x=\"839\" y=\"-37.8\" font-family=\"Helvetica,sans-Serif\" font-size=\"14.00\">squared_error = 0.002</text>\n",
       "<text text-anchor=\"start\" x=\"869\" y=\"-22.8\" font-family=\"Helvetica,sans-Serif\" font-size=\"14.00\">samples = 9</text>\n",
       "<text text-anchor=\"start\" x=\"865.5\" y=\"-7.8\" font-family=\"Helvetica,sans-Serif\" font-size=\"14.00\">value = 8.644</text>\n",
       "</g>\n",
       "<!-- 9&#45;&gt;11 -->\n",
       "<g id=\"edge11\" class=\"edge\">\n",
       "<title>9&#45;&gt;11</title>\n",
       "<path fill=\"none\" stroke=\"black\" d=\"M853.83,-88.95C861.59,-79.89 870.01,-70.07 877.8,-60.99\"/>\n",
       "<polygon fill=\"black\" stroke=\"black\" points=\"880.59,-63.11 884.44,-53.24 875.27,-58.55 880.59,-63.11\"/>\n",
       "</g>\n",
       "<!-- 13 -->\n",
       "<g id=\"node14\" class=\"node\">\n",
       "<title>13</title>\n",
       "<path fill=\"#ea985d\" stroke=\"black\" d=\"M1139,-53C1139,-53 1012,-53 1012,-53 1006,-53 1000,-47 1000,-41 1000,-41 1000,-12 1000,-12 1000,-6 1006,0 1012,0 1012,0 1139,0 1139,0 1145,0 1151,-6 1151,-12 1151,-12 1151,-41 1151,-41 1151,-47 1145,-53 1139,-53\"/>\n",
       "<text text-anchor=\"start\" x=\"1008\" y=\"-37.8\" font-family=\"Helvetica,sans-Serif\" font-size=\"14.00\">squared_error = 0.002</text>\n",
       "<text text-anchor=\"start\" x=\"1038\" y=\"-22.8\" font-family=\"Helvetica,sans-Serif\" font-size=\"14.00\">samples = 5</text>\n",
       "<text text-anchor=\"start\" x=\"1038\" y=\"-7.8\" font-family=\"Helvetica,sans-Serif\" font-size=\"14.00\">value = 8.82</text>\n",
       "</g>\n",
       "<!-- 12&#45;&gt;13 -->\n",
       "<g id=\"edge13\" class=\"edge\">\n",
       "<title>12&#45;&gt;13</title>\n",
       "<path fill=\"none\" stroke=\"black\" d=\"M1075.5,-88.95C1075.5,-80.72 1075.5,-71.85 1075.5,-63.48\"/>\n",
       "<polygon fill=\"black\" stroke=\"black\" points=\"1079,-63.24 1075.5,-53.24 1072,-63.24 1079,-63.24\"/>\n",
       "</g>\n",
       "<!-- 14 -->\n",
       "<g id=\"node15\" class=\"node\">\n",
       "<title>14</title>\n",
       "<path fill=\"#e58139\" stroke=\"black\" d=\"M1308,-53C1308,-53 1181,-53 1181,-53 1175,-53 1169,-47 1169,-41 1169,-41 1169,-12 1169,-12 1169,-6 1175,0 1181,0 1181,0 1308,0 1308,0 1314,0 1320,-6 1320,-12 1320,-12 1320,-41 1320,-41 1320,-47 1314,-53 1308,-53\"/>\n",
       "<text text-anchor=\"start\" x=\"1177\" y=\"-37.8\" font-family=\"Helvetica,sans-Serif\" font-size=\"14.00\">squared_error = 0.009</text>\n",
       "<text text-anchor=\"start\" x=\"1207\" y=\"-22.8\" font-family=\"Helvetica,sans-Serif\" font-size=\"14.00\">samples = 6</text>\n",
       "<text text-anchor=\"start\" x=\"1203.5\" y=\"-7.8\" font-family=\"Helvetica,sans-Serif\" font-size=\"14.00\">value = 9.067</text>\n",
       "</g>\n",
       "<!-- 12&#45;&gt;14 -->\n",
       "<g id=\"edge14\" class=\"edge\">\n",
       "<title>12&#45;&gt;14</title>\n",
       "<path fill=\"none\" stroke=\"black\" d=\"M1134.61,-88.95C1152.52,-78.93 1172.11,-67.98 1189.73,-58.13\"/>\n",
       "<polygon fill=\"black\" stroke=\"black\" points=\"1191.72,-61.02 1198.74,-53.09 1188.31,-54.91 1191.72,-61.02\"/>\n",
       "</g>\n",
       "</g>\n",
       "</svg>\n"
      ],
      "text/plain": [
       "<graphviz.sources.Source at 0x1f663f893a0>"
      ]
     },
     "execution_count": 95,
     "metadata": {},
     "output_type": "execute_result"
    }
   ],
   "source": [
    "plot_tree_regression(dt_regression, features)"
   ]
  },
  {
   "cell_type": "code",
   "execution_count": 96,
   "id": "6b33e3d8",
   "metadata": {},
   "outputs": [],
   "source": [
    "# Yes, it compares the imdb_rating and puts it to the left if its true, \n",
    "# and right if false. After that it calculates the values then the same riddle goes on."
   ]
  },
  {
   "cell_type": "code",
   "execution_count": null,
   "id": "c95c325d",
   "metadata": {},
   "outputs": [],
   "source": []
  }
 ],
 "metadata": {
  "kernelspec": {
   "display_name": "Python 3 (ipykernel)",
   "language": "python",
   "name": "python3"
  },
  "language_info": {
   "codemirror_mode": {
    "name": "ipython",
    "version": 3
   },
   "file_extension": ".py",
   "mimetype": "text/x-python",
   "name": "python",
   "nbconvert_exporter": "python",
   "pygments_lexer": "ipython3",
   "version": "3.9.13"
  }
 },
 "nbformat": 4,
 "nbformat_minor": 5
}
