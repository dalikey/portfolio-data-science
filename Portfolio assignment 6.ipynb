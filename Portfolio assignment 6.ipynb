{
 "cells": [
  {
   "cell_type": "code",
   "execution_count": 391,
   "id": "96f6f6d9",
   "metadata": {},
   "outputs": [],
   "source": [
    "import pandas as pd"
   ]
  },
  {
   "cell_type": "code",
   "execution_count": 392,
   "id": "c327d547",
   "metadata": {},
   "outputs": [],
   "source": [
    "df = pd.read_csv('movies.csv', sep=';', thousands=',')"
   ]
  },
  {
   "cell_type": "code",
   "execution_count": 393,
   "id": "0f5cc7d4",
   "metadata": {},
   "outputs": [
    {
     "data": {
      "text/html": [
       "<div>\n",
       "<style scoped>\n",
       "    .dataframe tbody tr th:only-of-type {\n",
       "        vertical-align: middle;\n",
       "    }\n",
       "\n",
       "    .dataframe tbody tr th {\n",
       "        vertical-align: top;\n",
       "    }\n",
       "\n",
       "    .dataframe thead th {\n",
       "        text-align: right;\n",
       "    }\n",
       "</style>\n",
       "<table border=\"1\" class=\"dataframe\">\n",
       "  <thead>\n",
       "    <tr style=\"text-align: right;\">\n",
       "      <th></th>\n",
       "      <th>index</th>\n",
       "      <th>movie_name</th>\n",
       "      <th>year_of_release</th>\n",
       "      <th>category</th>\n",
       "      <th>run_time</th>\n",
       "      <th>genre</th>\n",
       "      <th>imdb_rating</th>\n",
       "      <th>votes</th>\n",
       "      <th>gross_total</th>\n",
       "    </tr>\n",
       "  </thead>\n",
       "  <tbody>\n",
       "    <tr>\n",
       "      <th>0</th>\n",
       "      <td>1.0</td>\n",
       "      <td>The Godfather</td>\n",
       "      <td>1972</td>\n",
       "      <td>R</td>\n",
       "      <td>175 min</td>\n",
       "      <td>Comedy</td>\n",
       "      <td>9.2</td>\n",
       "      <td>1860471</td>\n",
       "      <td>$134.97M</td>\n",
       "    </tr>\n",
       "    <tr>\n",
       "      <th>1</th>\n",
       "      <td>2.0</td>\n",
       "      <td>The Silence of the Lambs</td>\n",
       "      <td>1991</td>\n",
       "      <td>R</td>\n",
       "      <td>118 min</td>\n",
       "      <td>Crime</td>\n",
       "      <td>8.6</td>\n",
       "      <td>1435344</td>\n",
       "      <td>$130.74M</td>\n",
       "    </tr>\n",
       "    <tr>\n",
       "      <th>2</th>\n",
       "      <td>3.0</td>\n",
       "      <td>Star Wars: Episode V - The Empire Strikes Back</td>\n",
       "      <td>1980</td>\n",
       "      <td>PG</td>\n",
       "      <td>124 min</td>\n",
       "      <td>Fantasy</td>\n",
       "      <td>8.7</td>\n",
       "      <td>1294805</td>\n",
       "      <td>$290.48M</td>\n",
       "    </tr>\n",
       "    <tr>\n",
       "      <th>3</th>\n",
       "      <td>4.0</td>\n",
       "      <td>The Shawshank Redemption</td>\n",
       "      <td>1994</td>\n",
       "      <td>R</td>\n",
       "      <td>142 min</td>\n",
       "      <td>Drama</td>\n",
       "      <td>9.3</td>\n",
       "      <td>2683302</td>\n",
       "      <td>$28.34M</td>\n",
       "    </tr>\n",
       "    <tr>\n",
       "      <th>4</th>\n",
       "      <td>5.0</td>\n",
       "      <td>The Shining</td>\n",
       "      <td>1980</td>\n",
       "      <td>R</td>\n",
       "      <td>146 min</td>\n",
       "      <td>Horror</td>\n",
       "      <td>8.4</td>\n",
       "      <td>1025560</td>\n",
       "      <td>$44.02M</td>\n",
       "    </tr>\n",
       "  </tbody>\n",
       "</table>\n",
       "</div>"
      ],
      "text/plain": [
       "   index                                      movie_name  year_of_release  \\\n",
       "0    1.0                                   The Godfather             1972   \n",
       "1    2.0                        The Silence of the Lambs             1991   \n",
       "2    3.0  Star Wars: Episode V - The Empire Strikes Back             1980   \n",
       "3    4.0                        The Shawshank Redemption             1994   \n",
       "4    5.0                                     The Shining             1980   \n",
       "\n",
       "  category run_time    genre  imdb_rating    votes gross_total  \n",
       "0        R  175 min   Comedy          9.2  1860471    $134.97M  \n",
       "1        R  118 min    Crime          8.6  1435344    $130.74M  \n",
       "2       PG  124 min  Fantasy          8.7  1294805    $290.48M  \n",
       "3        R  142 min    Drama          9.3  2683302     $28.34M  \n",
       "4        R  146 min   Horror          8.4  1025560     $44.02M  "
      ]
     },
     "execution_count": 393,
     "metadata": {},
     "output_type": "execute_result"
    }
   ],
   "source": [
    "df.head()"
   ]
  },
  {
   "cell_type": "code",
   "execution_count": 394,
   "id": "23dd3df4",
   "metadata": {
    "scrolled": true
   },
   "outputs": [
    {
     "name": "stdout",
     "output_type": "stream",
     "text": [
      "<class 'pandas.core.frame.DataFrame'>\n",
      "RangeIndex: 100 entries, 0 to 99\n",
      "Data columns (total 9 columns):\n",
      " #   Column           Non-Null Count  Dtype  \n",
      "---  ------           --------------  -----  \n",
      " 0   index            100 non-null    float64\n",
      " 1   movie_name       100 non-null    object \n",
      " 2   year_of_release  100 non-null    int64  \n",
      " 3   category         100 non-null    object \n",
      " 4   run_time         100 non-null    object \n",
      " 5   genre            100 non-null    object \n",
      " 6   imdb_rating      100 non-null    float64\n",
      " 7   votes            100 non-null    int64  \n",
      " 8   gross_total      99 non-null     object \n",
      "dtypes: float64(2), int64(2), object(5)\n",
      "memory usage: 7.2+ KB\n"
     ]
    }
   ],
   "source": [
    "df.info()"
   ]
  },
  {
   "cell_type": "code",
   "execution_count": 395,
   "id": "48f4defd",
   "metadata": {},
   "outputs": [
    {
     "data": {
      "text/plain": [
       "0      R\n",
       "1      R\n",
       "2     PG\n",
       "3      R\n",
       "4      R\n",
       "      ..\n",
       "95     R\n",
       "96     R\n",
       "97     G\n",
       "98     R\n",
       "99     R\n",
       "Name: category, Length: 100, dtype: object"
      ]
     },
     "execution_count": 395,
     "metadata": {},
     "output_type": "execute_result"
    }
   ],
   "source": [
    "df['category']"
   ]
  },
  {
   "cell_type": "code",
   "execution_count": 396,
   "id": "1735ee8d",
   "metadata": {},
   "outputs": [
    {
     "data": {
      "text/plain": [
       "array(['R', 'PG', 'PG-13', 'G'], dtype=object)"
      ]
     },
     "execution_count": 396,
     "metadata": {},
     "output_type": "execute_result"
    }
   ],
   "source": [
    "df['category'].unique()"
   ]
  },
  {
   "cell_type": "code",
   "execution_count": 397,
   "id": "a1c08ecc",
   "metadata": {},
   "outputs": [
    {
     "data": {
      "text/plain": [
       "R        60\n",
       "PG-13    16\n",
       "PG       14\n",
       "G        10\n",
       "Name: category, dtype: int64"
      ]
     },
     "execution_count": 397,
     "metadata": {},
     "output_type": "execute_result"
    }
   ],
   "source": [
    "df['category'].value_counts()"
   ]
  },
  {
   "cell_type": "code",
   "execution_count": 398,
   "id": "9d613f0c",
   "metadata": {},
   "outputs": [
    {
     "data": {
      "text/plain": [
       "<AxesSubplot:>"
      ]
     },
     "execution_count": 398,
     "metadata": {},
     "output_type": "execute_result"
    },
    {
     "data": {
      "image/png": "[encoded data removed]",
      "text/plain": [
       "<Figure size 640x480 with 1 Axes>"
      ]
     },
     "metadata": {},
     "output_type": "display_data"
    }
   ],
   "source": [
    "df['category'].value_counts().plot(kind='bar')"
   ]
  },
  {
   "cell_type": "code",
   "execution_count": 399,
   "id": "f2cb5a41",
   "metadata": {},
   "outputs": [
    {
     "data": {
      "text/plain": [
       "0      Comedy\n",
       "1       Crime\n",
       "2     Fantasy\n",
       "3       Drama\n",
       "4      Horror\n",
       "       ...   \n",
       "95      Crime\n",
       "96     Sci-Fi\n",
       "97    Romance\n",
       "98     Action\n",
       "99     Action\n",
       "Name: genre, Length: 100, dtype: object"
      ]
     },
     "execution_count": 399,
     "metadata": {},
     "output_type": "execute_result"
    }
   ],
   "source": [
    "df['genre']"
   ]
  },
  {
   "cell_type": "code",
   "execution_count": 400,
   "id": "87802001",
   "metadata": {},
   "outputs": [
    {
     "data": {
      "text/plain": [
       "array(['Comedy', 'Crime', 'Fantasy', 'Drama', 'Horror', 'Romance',\n",
       "       'Action', 'Adventure', 'Sci-Fi', 'Mystery'], dtype=object)"
      ]
     },
     "execution_count": 400,
     "metadata": {},
     "output_type": "execute_result"
    }
   ],
   "source": [
    "df['genre'].unique()"
   ]
  },
  {
   "cell_type": "code",
   "execution_count": 401,
   "id": "3797a175",
   "metadata": {},
   "outputs": [
    {
     "data": {
      "text/plain": [
       "Crime        14\n",
       "Action       12\n",
       "Sci-Fi       12\n",
       "Romance      11\n",
       "Drama        10\n",
       "Adventure    10\n",
       "Mystery      10\n",
       "Comedy        9\n",
       "Horror        7\n",
       "Fantasy       5\n",
       "Name: genre, dtype: int64"
      ]
     },
     "execution_count": 401,
     "metadata": {},
     "output_type": "execute_result"
    }
   ],
   "source": [
    "df['genre'].value_counts()"
   ]
  },
  {
   "cell_type": "code",
   "execution_count": 402,
   "id": "a9a23317",
   "metadata": {},
   "outputs": [
    {
     "data": {
      "text/plain": [
       "<AxesSubplot:>"
      ]
     },
     "execution_count": 402,
     "metadata": {},
     "output_type": "execute_result"
    },
    {
     "data": {
      "image/png": "[encoded data removed]",
      "text/plain": [
       "<Figure size 640x480 with 1 Axes>"
      ]
     },
     "metadata": {},
     "output_type": "display_data"
    }
   ],
   "source": [
    "df['genre'].value_counts().plot(kind='bar')"
   ]
  },
  {
   "cell_type": "code",
   "execution_count": 403,
   "id": "7e2cb90e",
   "metadata": {},
   "outputs": [
    {
     "data": {
      "text/plain": [
       "0     1972\n",
       "1     1991\n",
       "2     1980\n",
       "3     1994\n",
       "4     1980\n",
       "      ... \n",
       "95    1967\n",
       "96    2003\n",
       "97    1931\n",
       "98    1999\n",
       "99    2013\n",
       "Name: year_of_release, Length: 100, dtype: int64"
      ]
     },
     "execution_count": 403,
     "metadata": {},
     "output_type": "execute_result"
    }
   ],
   "source": [
    "df['year_of_release']"
   ]
  },
  {
   "cell_type": "code",
   "execution_count": 404,
   "id": "c15df1f4",
   "metadata": {
    "scrolled": true
   },
   "outputs": [
    {
     "data": {
      "text/plain": [
       "array([1972, 1991, 1980, 1994, 1942, 1975, 1981, 2003, 2008, 1974, 1983,\n",
       "       1993, 2010, 2001, 1979, 1959, 1982, 1995, 1957, 2002, 1988, 1939,\n",
       "       1976, 1954, 1985, 1950, 1990, 2000, 1999, 1997, 1968, 1936, 1987,\n",
       "       2007, 2012, 2006, 2005, 1944, 1996, 1958, 2015, 2013, 1989, 2009,\n",
       "       1967, 1931], dtype=int64)"
      ]
     },
     "execution_count": 404,
     "metadata": {},
     "output_type": "execute_result"
    }
   ],
   "source": [
    "df['year_of_release'].unique()"
   ]
  },
  {
   "cell_type": "code",
   "execution_count": 405,
   "id": "2b6d8249",
   "metadata": {},
   "outputs": [
    {
     "data": {
      "text/plain": [
       "1999    6\n",
       "2003    5\n",
       "1995    5\n",
       "1994    5\n",
       "2006    4\n",
       "2012    4\n",
       "1997    3\n",
       "2002    3\n",
       "2000    3\n",
       "2001    3\n",
       "2013    3\n",
       "1996    2\n",
       "1968    2\n",
       "2007    2\n",
       "1958    2\n",
       "1950    2\n",
       "2015    2\n",
       "1991    2\n",
       "1988    2\n",
       "1972    2\n",
       "1982    2\n",
       "1959    2\n",
       "1979    2\n",
       "2010    2\n",
       "1993    2\n",
       "1983    2\n",
       "1974    2\n",
       "2008    2\n",
       "2009    2\n",
       "1975    2\n",
       "1980    2\n",
       "1957    2\n",
       "2005    1\n",
       "1989    1\n",
       "1944    1\n",
       "1967    1\n",
       "1954    1\n",
       "1987    1\n",
       "1936    1\n",
       "1990    1\n",
       "1985    1\n",
       "1976    1\n",
       "1939    1\n",
       "1981    1\n",
       "1942    1\n",
       "1931    1\n",
       "Name: year_of_release, dtype: int64"
      ]
     },
     "execution_count": 405,
     "metadata": {},
     "output_type": "execute_result"
    }
   ],
   "source": [
    "df['year_of_release'].value_counts()"
   ]
  },
  {
   "cell_type": "code",
   "execution_count": 406,
   "id": "24254a7b",
   "metadata": {},
   "outputs": [
    {
     "data": {
      "text/plain": [
       "<AxesSubplot:>"
      ]
     },
     "execution_count": 406,
     "metadata": {},
     "output_type": "execute_result"
    },
    {
     "data": {
      "image/png": "[encoded data removed]",
      "text/plain": [
       "<Figure size 640x480 with 1 Axes>"
      ]
     },
     "metadata": {},
     "output_type": "display_data"
    }
   ],
   "source": [
    "df['year_of_release'].value_counts().plot(kind='bar')"
   ]
  },
  {
   "cell_type": "code",
   "execution_count": 407,
   "id": "413ef7b9",
   "metadata": {},
   "outputs": [
    {
     "data": {
      "text/html": [
       "<div>\n",
       "<style scoped>\n",
       "    .dataframe tbody tr th:only-of-type {\n",
       "        vertical-align: middle;\n",
       "    }\n",
       "\n",
       "    .dataframe tbody tr th {\n",
       "        vertical-align: top;\n",
       "    }\n",
       "\n",
       "    .dataframe thead th {\n",
       "        text-align: right;\n",
       "    }\n",
       "</style>\n",
       "<table border=\"1\" class=\"dataframe\">\n",
       "  <thead>\n",
       "    <tr style=\"text-align: right;\">\n",
       "      <th></th>\n",
       "      <th>index</th>\n",
       "      <th>year_of_release</th>\n",
       "      <th>imdb_rating</th>\n",
       "      <th>votes</th>\n",
       "    </tr>\n",
       "  </thead>\n",
       "  <tbody>\n",
       "    <tr>\n",
       "      <th>count</th>\n",
       "      <td>100.000000</td>\n",
       "      <td>100.000000</td>\n",
       "      <td>100.000000</td>\n",
       "      <td>1.000000e+02</td>\n",
       "    </tr>\n",
       "    <tr>\n",
       "      <th>mean</th>\n",
       "      <td>50.500000</td>\n",
       "      <td>1988.990000</td>\n",
       "      <td>8.357000</td>\n",
       "      <td>9.146570e+05</td>\n",
       "    </tr>\n",
       "    <tr>\n",
       "      <th>std</th>\n",
       "      <td>29.011492</td>\n",
       "      <td>20.023973</td>\n",
       "      <td>0.376656</td>\n",
       "      <td>5.964204e+05</td>\n",
       "    </tr>\n",
       "    <tr>\n",
       "      <th>min</th>\n",
       "      <td>1.000000</td>\n",
       "      <td>1931.000000</td>\n",
       "      <td>7.200000</td>\n",
       "      <td>1.074800e+04</td>\n",
       "    </tr>\n",
       "    <tr>\n",
       "      <th>25%</th>\n",
       "      <td>25.750000</td>\n",
       "      <td>1979.000000</td>\n",
       "      <td>8.100000</td>\n",
       "      <td>4.854240e+05</td>\n",
       "    </tr>\n",
       "    <tr>\n",
       "      <th>50%</th>\n",
       "      <td>50.500000</td>\n",
       "      <td>1995.000000</td>\n",
       "      <td>8.300000</td>\n",
       "      <td>8.137855e+05</td>\n",
       "    </tr>\n",
       "    <tr>\n",
       "      <th>75%</th>\n",
       "      <td>75.250000</td>\n",
       "      <td>2003.000000</td>\n",
       "      <td>8.600000</td>\n",
       "      <td>1.216750e+06</td>\n",
       "    </tr>\n",
       "    <tr>\n",
       "      <th>max</th>\n",
       "      <td>100.000000</td>\n",
       "      <td>2015.000000</td>\n",
       "      <td>9.300000</td>\n",
       "      <td>2.683302e+06</td>\n",
       "    </tr>\n",
       "  </tbody>\n",
       "</table>\n",
       "</div>"
      ],
      "text/plain": [
       "            index  year_of_release  imdb_rating         votes\n",
       "count  100.000000       100.000000   100.000000  1.000000e+02\n",
       "mean    50.500000      1988.990000     8.357000  9.146570e+05\n",
       "std     29.011492        20.023973     0.376656  5.964204e+05\n",
       "min      1.000000      1931.000000     7.200000  1.074800e+04\n",
       "25%     25.750000      1979.000000     8.100000  4.854240e+05\n",
       "50%     50.500000      1995.000000     8.300000  8.137855e+05\n",
       "75%     75.250000      2003.000000     8.600000  1.216750e+06\n",
       "max    100.000000      2015.000000     9.300000  2.683302e+06"
      ]
     },
     "execution_count": 407,
     "metadata": {},
     "output_type": "execute_result"
    }
   ],
   "source": [
    "df.describe()"
   ]
  },
  {
   "cell_type": "code",
   "execution_count": 408,
   "id": "4d630786",
   "metadata": {},
   "outputs": [
    {
     "data": {
      "text/plain": [
       "8.5    13\n",
       "8.2    13\n",
       "8.3    12\n",
       "8.4     9\n",
       "8.1     8\n",
       "8.6     8\n",
       "8.8     6\n",
       "8.0     5\n",
       "9.0     5\n",
       "8.7     4\n",
       "7.8     4\n",
       "7.9     4\n",
       "7.7     3\n",
       "9.2     2\n",
       "7.2     1\n",
       "8.9     1\n",
       "9.3     1\n",
       "7.5     1\n",
       "Name: imdb_rating, dtype: int64"
      ]
     },
     "execution_count": 408,
     "metadata": {},
     "output_type": "execute_result"
    }
   ],
   "source": [
    "df['imdb_rating'].value_counts()"
   ]
  },
  {
   "cell_type": "code",
   "execution_count": 409,
   "id": "fef15448",
   "metadata": {},
   "outputs": [
    {
     "data": {
      "text/plain": [
       "13"
      ]
     },
     "execution_count": 409,
     "metadata": {},
     "output_type": "execute_result"
    }
   ],
   "source": [
    "df['imdb_rating'].value_counts().max()"
   ]
  },
  {
   "cell_type": "code",
   "execution_count": 410,
   "id": "8e81c632",
   "metadata": {},
   "outputs": [
    {
     "data": {
      "text/plain": [
       "<AxesSubplot:ylabel='Frequency'>"
      ]
     },
     "execution_count": 410,
     "metadata": {},
     "output_type": "execute_result"
    },
    {
     "data": {
      "image/png": "[encoded data removed]",
      "text/plain": [
       "<Figure size 640x480 with 1 Axes>"
      ]
     },
     "metadata": {},
     "output_type": "display_data"
    }
   ],
   "source": [
    "df['imdb_rating'].plot(kind='hist', bins = 12)"
   ]
  },
  {
   "cell_type": "code",
   "execution_count": 411,
   "id": "72113fc8",
   "metadata": {},
   "outputs": [
    {
     "data": {
      "text/plain": [
       "<AxesSubplot:>"
      ]
     },
     "execution_count": 411,
     "metadata": {},
     "output_type": "execute_result"
    },
    {
     "data": {
      "image/png": "[encoded data removed]",
      "text/plain": [
       "<Figure size 640x480 with 1 Axes>"
      ]
     },
     "metadata": {},
     "output_type": "display_data"
    }
   ],
   "source": [
    "df['imdb_rating'].plot(kind='box')"
   ]
  },
  {
   "cell_type": "code",
   "execution_count": 412,
   "id": "041144c6",
   "metadata": {},
   "outputs": [],
   "source": [
    "noOutlier = df[(df['imdb_rating'] > 7.2)&(df['imdb_rating'] < 9.3)]"
   ]
  },
  {
   "cell_type": "code",
   "execution_count": 413,
   "id": "d7cd0a3f",
   "metadata": {},
   "outputs": [
    {
     "data": {
      "text/plain": [
       "<AxesSubplot:>"
      ]
     },
     "execution_count": 413,
     "metadata": {},
     "output_type": "execute_result"
    },
    {
     "data": {
      "image/png": "[encoded data removed]",
      "text/plain": [
       "<Figure size 640x480 with 1 Axes>"
      ]
     },
     "metadata": {},
     "output_type": "display_data"
    }
   ],
   "source": [
    "noOutlier['imdb_rating'].plot(kind='box')"
   ]
  },
  {
   "cell_type": "code",
   "execution_count": 414,
   "id": "8f81373a",
   "metadata": {},
   "outputs": [
    {
     "data": {
      "text/html": [
       "<div>\n",
       "<style scoped>\n",
       "    .dataframe tbody tr th:only-of-type {\n",
       "        vertical-align: middle;\n",
       "    }\n",
       "\n",
       "    .dataframe tbody tr th {\n",
       "        vertical-align: top;\n",
       "    }\n",
       "\n",
       "    .dataframe thead th {\n",
       "        text-align: right;\n",
       "    }\n",
       "</style>\n",
       "<table border=\"1\" class=\"dataframe\">\n",
       "  <thead>\n",
       "    <tr style=\"text-align: right;\">\n",
       "      <th></th>\n",
       "      <th>index</th>\n",
       "      <th>year_of_release</th>\n",
       "      <th>imdb_rating</th>\n",
       "      <th>votes</th>\n",
       "    </tr>\n",
       "  </thead>\n",
       "  <tbody>\n",
       "    <tr>\n",
       "      <th>count</th>\n",
       "      <td>100.000000</td>\n",
       "      <td>100.000000</td>\n",
       "      <td>100.000000</td>\n",
       "      <td>1.000000e+02</td>\n",
       "    </tr>\n",
       "    <tr>\n",
       "      <th>mean</th>\n",
       "      <td>50.500000</td>\n",
       "      <td>1988.990000</td>\n",
       "      <td>8.357000</td>\n",
       "      <td>9.146570e+05</td>\n",
       "    </tr>\n",
       "    <tr>\n",
       "      <th>std</th>\n",
       "      <td>29.011492</td>\n",
       "      <td>20.023973</td>\n",
       "      <td>0.376656</td>\n",
       "      <td>5.964204e+05</td>\n",
       "    </tr>\n",
       "    <tr>\n",
       "      <th>min</th>\n",
       "      <td>1.000000</td>\n",
       "      <td>1931.000000</td>\n",
       "      <td>7.200000</td>\n",
       "      <td>1.074800e+04</td>\n",
       "    </tr>\n",
       "    <tr>\n",
       "      <th>25%</th>\n",
       "      <td>25.750000</td>\n",
       "      <td>1979.000000</td>\n",
       "      <td>8.100000</td>\n",
       "      <td>4.854240e+05</td>\n",
       "    </tr>\n",
       "    <tr>\n",
       "      <th>50%</th>\n",
       "      <td>50.500000</td>\n",
       "      <td>1995.000000</td>\n",
       "      <td>8.300000</td>\n",
       "      <td>8.137855e+05</td>\n",
       "    </tr>\n",
       "    <tr>\n",
       "      <th>75%</th>\n",
       "      <td>75.250000</td>\n",
       "      <td>2003.000000</td>\n",
       "      <td>8.600000</td>\n",
       "      <td>1.216750e+06</td>\n",
       "    </tr>\n",
       "    <tr>\n",
       "      <th>max</th>\n",
       "      <td>100.000000</td>\n",
       "      <td>2015.000000</td>\n",
       "      <td>9.300000</td>\n",
       "      <td>2.683302e+06</td>\n",
       "    </tr>\n",
       "  </tbody>\n",
       "</table>\n",
       "</div>"
      ],
      "text/plain": [
       "            index  year_of_release  imdb_rating         votes\n",
       "count  100.000000       100.000000   100.000000  1.000000e+02\n",
       "mean    50.500000      1988.990000     8.357000  9.146570e+05\n",
       "std     29.011492        20.023973     0.376656  5.964204e+05\n",
       "min      1.000000      1931.000000     7.200000  1.074800e+04\n",
       "25%     25.750000      1979.000000     8.100000  4.854240e+05\n",
       "50%     50.500000      1995.000000     8.300000  8.137855e+05\n",
       "75%     75.250000      2003.000000     8.600000  1.216750e+06\n",
       "max    100.000000      2015.000000     9.300000  2.683302e+06"
      ]
     },
     "execution_count": 414,
     "metadata": {},
     "output_type": "execute_result"
    }
   ],
   "source": [
    "df.describe()"
   ]
  },
  {
   "cell_type": "code",
   "execution_count": 415,
   "id": "3ea6c92e",
   "metadata": {},
   "outputs": [
    {
     "data": {
      "text/plain": [
       "1860471    1\n",
       "32911      1\n",
       "173206     1\n",
       "428474     1\n",
       "1835790    1\n",
       "          ..\n",
       "1060900    1\n",
       "22254      1\n",
       "2058574    1\n",
       "836871     1\n",
       "368822     1\n",
       "Name: votes, Length: 100, dtype: int64"
      ]
     },
     "execution_count": 415,
     "metadata": {},
     "output_type": "execute_result"
    }
   ],
   "source": [
    "df['votes'].value_counts()"
   ]
  },
  {
   "cell_type": "code",
   "execution_count": 416,
   "id": "8205e52f",
   "metadata": {},
   "outputs": [
    {
     "data": {
      "text/plain": [
       "<AxesSubplot:ylabel='Frequency'>"
      ]
     },
     "execution_count": 416,
     "metadata": {},
     "output_type": "execute_result"
    },
    {
     "data": {
      "image/png": "[encoded data removed]",
      "text/plain": [
       "<Figure size 640x480 with 1 Axes>"
      ]
     },
     "metadata": {},
     "output_type": "display_data"
    }
   ],
   "source": [
    "df['votes'].plot(kind='hist', bins = 10)"
   ]
  },
  {
   "cell_type": "code",
   "execution_count": 417,
   "id": "713056e2",
   "metadata": {
    "scrolled": true
   },
   "outputs": [
    {
     "data": {
      "text/plain": [
       "<AxesSubplot:>"
      ]
     },
     "execution_count": 417,
     "metadata": {},
     "output_type": "execute_result"
    },
    {
     "data": {
      "image/png": "[encoded data removed]",
      "text/plain": [
       "<Figure size 640x480 with 1 Axes>"
      ]
     },
     "metadata": {},
     "output_type": "display_data"
    }
   ],
   "source": [
    "df['votes'].plot(kind='box')"
   ]
  },
  {
   "cell_type": "code",
   "execution_count": 418,
   "id": "6e9e37fb",
   "metadata": {},
   "outputs": [
    {
     "data": {
      "text/plain": [
       "2683302"
      ]
     },
     "execution_count": 418,
     "metadata": {},
     "output_type": "execute_result"
    }
   ],
   "source": [
    "df['votes'].max()"
   ]
  },
  {
   "cell_type": "code",
   "execution_count": 419,
   "id": "47fcc9d9",
   "metadata": {},
   "outputs": [],
   "source": [
    "noOutlier = df[(df['votes'] < 2350000)]"
   ]
  },
  {
   "cell_type": "code",
   "execution_count": 420,
   "id": "8db0fe40",
   "metadata": {},
   "outputs": [
    {
     "data": {
      "text/plain": [
       "<AxesSubplot:>"
      ]
     },
     "execution_count": 420,
     "metadata": {},
     "output_type": "execute_result"
    },
    {
     "data": {
      "image/png": "[encoded data removed]",
      "text/plain": [
       "<Figure size 640x480 with 1 Axes>"
      ]
     },
     "metadata": {},
     "output_type": "display_data"
    }
   ],
   "source": [
    "noOutlier['votes'].plot(kind='box')"
   ]
  },
  {
   "cell_type": "code",
   "execution_count": 421,
   "id": "0f8b564a",
   "metadata": {},
   "outputs": [
    {
     "data": {
      "text/plain": [
       "0     1860471\n",
       "1     1435344\n",
       "2     1294805\n",
       "3     2683302\n",
       "4     1025560\n",
       "       ...   \n",
       "95     178888\n",
       "96    1011004\n",
       "97     186059\n",
       "98    1916083\n",
       "99     368822\n",
       "Name: votes, Length: 100, dtype: int64"
      ]
     },
     "execution_count": 421,
     "metadata": {},
     "output_type": "execute_result"
    }
   ],
   "source": [
    "df['votes']"
   ]
  },
  {
   "cell_type": "code",
   "execution_count": null,
   "id": "e28844d8",
   "metadata": {},
   "outputs": [],
   "source": []
  }
 ],
 "metadata": {
  "kernelspec": {
   "display_name": "Python 3 (ipykernel)",
   "language": "python",
   "name": "python3"
  },
  "language_info": {
   "codemirror_mode": {
    "name": "ipython",
    "version": 3
   },
   "file_extension": ".py",
   "mimetype": "text/x-python",
   "name": "python",
   "nbconvert_exporter": "python",
   "pygments_lexer": "ipython3",
   "version": "3.9.13"
  }
 },
 "nbformat": 4,
 "nbformat_minor": 5
}
