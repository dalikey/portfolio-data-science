{
 "cells": [
  {
   "cell_type": "code",
   "execution_count": 50,
   "id": "9c7bba89",
   "metadata": {},
   "outputs": [],
   "source": [
    "import pandas as pd"
   ]
  },
  {
   "cell_type": "code",
   "execution_count": 51,
   "id": "db123ad1",
   "metadata": {},
   "outputs": [],
   "source": [
    "df = pd.read_csv('movies.csv', sep=';', thousands=',')"
   ]
  },
  {
   "cell_type": "code",
   "execution_count": 52,
   "id": "16c2a064",
   "metadata": {},
   "outputs": [
    {
     "data": {
      "text/html": [
       "<div>\n",
       "<style scoped>\n",
       "    .dataframe tbody tr th:only-of-type {\n",
       "        vertical-align: middle;\n",
       "    }\n",
       "\n",
       "    .dataframe tbody tr th {\n",
       "        vertical-align: top;\n",
       "    }\n",
       "\n",
       "    .dataframe thead th {\n",
       "        text-align: right;\n",
       "    }\n",
       "</style>\n",
       "<table border=\"1\" class=\"dataframe\">\n",
       "  <thead>\n",
       "    <tr style=\"text-align: right;\">\n",
       "      <th></th>\n",
       "      <th>index</th>\n",
       "      <th>movie_name</th>\n",
       "      <th>year_of_release</th>\n",
       "      <th>category</th>\n",
       "      <th>run_time</th>\n",
       "      <th>genre</th>\n",
       "      <th>imdb_rating</th>\n",
       "      <th>votes</th>\n",
       "      <th>gross_total</th>\n",
       "    </tr>\n",
       "  </thead>\n",
       "  <tbody>\n",
       "    <tr>\n",
       "      <th>0</th>\n",
       "      <td>1.0</td>\n",
       "      <td>The Godfather</td>\n",
       "      <td>1972</td>\n",
       "      <td>R</td>\n",
       "      <td>175 min</td>\n",
       "      <td>Comedy</td>\n",
       "      <td>9.2</td>\n",
       "      <td>1860471</td>\n",
       "      <td>$134.97M</td>\n",
       "    </tr>\n",
       "    <tr>\n",
       "      <th>1</th>\n",
       "      <td>2.0</td>\n",
       "      <td>The Silence of the Lambs</td>\n",
       "      <td>1991</td>\n",
       "      <td>R</td>\n",
       "      <td>118 min</td>\n",
       "      <td>Crime</td>\n",
       "      <td>8.6</td>\n",
       "      <td>1435344</td>\n",
       "      <td>$130.74M</td>\n",
       "    </tr>\n",
       "    <tr>\n",
       "      <th>2</th>\n",
       "      <td>3.0</td>\n",
       "      <td>Star Wars: Episode V - The Empire Strikes Back</td>\n",
       "      <td>1980</td>\n",
       "      <td>PG</td>\n",
       "      <td>124 min</td>\n",
       "      <td>Fantasy</td>\n",
       "      <td>8.7</td>\n",
       "      <td>1294805</td>\n",
       "      <td>$290.48M</td>\n",
       "    </tr>\n",
       "    <tr>\n",
       "      <th>3</th>\n",
       "      <td>4.0</td>\n",
       "      <td>The Shawshank Redemption</td>\n",
       "      <td>1994</td>\n",
       "      <td>R</td>\n",
       "      <td>142 min</td>\n",
       "      <td>Drama</td>\n",
       "      <td>9.3</td>\n",
       "      <td>2683302</td>\n",
       "      <td>$28.34M</td>\n",
       "    </tr>\n",
       "    <tr>\n",
       "      <th>4</th>\n",
       "      <td>5.0</td>\n",
       "      <td>The Shining</td>\n",
       "      <td>1980</td>\n",
       "      <td>R</td>\n",
       "      <td>146 min</td>\n",
       "      <td>Horror</td>\n",
       "      <td>8.4</td>\n",
       "      <td>1025560</td>\n",
       "      <td>$44.02M</td>\n",
       "    </tr>\n",
       "  </tbody>\n",
       "</table>\n",
       "</div>"
      ],
      "text/plain": [
       "   index                                      movie_name  year_of_release  \\\n",
       "0    1.0                                   The Godfather             1972   \n",
       "1    2.0                        The Silence of the Lambs             1991   \n",
       "2    3.0  Star Wars: Episode V - The Empire Strikes Back             1980   \n",
       "3    4.0                        The Shawshank Redemption             1994   \n",
       "4    5.0                                     The Shining             1980   \n",
       "\n",
       "  category run_time    genre  imdb_rating    votes gross_total  \n",
       "0        R  175 min   Comedy          9.2  1860471    $134.97M  \n",
       "1        R  118 min    Crime          8.6  1435344    $130.74M  \n",
       "2       PG  124 min  Fantasy          8.7  1294805    $290.48M  \n",
       "3        R  142 min    Drama          9.3  2683302     $28.34M  \n",
       "4        R  146 min   Horror          8.4  1025560     $44.02M  "
      ]
     },
     "execution_count": 52,
     "metadata": {},
     "output_type": "execute_result"
    }
   ],
   "source": [
    "df.head()"
   ]
  },
  {
   "cell_type": "code",
   "execution_count": 53,
   "id": "6a598efb",
   "metadata": {},
   "outputs": [
    {
     "name": "stdout",
     "output_type": "stream",
     "text": [
      "<class 'pandas.core.frame.DataFrame'>\n",
      "RangeIndex: 100 entries, 0 to 99\n",
      "Data columns (total 9 columns):\n",
      " #   Column           Non-Null Count  Dtype  \n",
      "---  ------           --------------  -----  \n",
      " 0   index            100 non-null    float64\n",
      " 1   movie_name       100 non-null    object \n",
      " 2   year_of_release  100 non-null    int64  \n",
      " 3   category         100 non-null    object \n",
      " 4   run_time         100 non-null    object \n",
      " 5   genre            100 non-null    object \n",
      " 6   imdb_rating      100 non-null    float64\n",
      " 7   votes            100 non-null    int64  \n",
      " 8   gross_total      99 non-null     object \n",
      "dtypes: float64(2), int64(2), object(5)\n",
      "memory usage: 7.2+ KB\n"
     ]
    }
   ],
   "source": [
    "df.info()"
   ]
  },
  {
   "cell_type": "code",
   "execution_count": 54,
   "id": "f4079ac2",
   "metadata": {
    "scrolled": false
   },
   "outputs": [
    {
     "data": {
      "text/plain": [
       "<AxesSubplot:ylabel='Frequency'>"
      ]
     },
     "execution_count": 54,
     "metadata": {},
     "output_type": "execute_result"
    },
    {
     "data": {
      "image/png": "[encoded data removed]",
      "text/plain": [
       "<Figure size 640x480 with 1 Axes>"
      ]
     },
     "metadata": {},
     "output_type": "display_data"
    }
   ],
   "source": [
    "df['imdb_rating'].plot(kind='hist', bins=20)"
   ]
  },
  {
   "cell_type": "code",
   "execution_count": 55,
   "id": "964e4a66",
   "metadata": {},
   "outputs": [],
   "source": [
    "# It looks like a Normal distribution"
   ]
  },
  {
   "cell_type": "code",
   "execution_count": 56,
   "id": "ef25c51d",
   "metadata": {},
   "outputs": [
    {
     "data": {
      "text/plain": [
       "<AxesSubplot:ylabel='Frequency'>"
      ]
     },
     "execution_count": 56,
     "metadata": {},
     "output_type": "execute_result"
    },
    {
     "data": {
      "image/png": "[encoded data removed]",
      "text/plain": [
       "<Figure size 640x480 with 1 Axes>"
      ]
     },
     "metadata": {},
     "output_type": "display_data"
    }
   ],
   "source": [
    "df['votes'].plot(kind='hist', bins=14)"
   ]
  },
  {
   "cell_type": "code",
   "execution_count": 57,
   "id": "345d75a3",
   "metadata": {},
   "outputs": [],
   "source": [
    "# It looks like a Lognormal Distribution"
   ]
  }
 ],
 "metadata": {
  "kernelspec": {
   "display_name": "Python 3 (ipykernel)",
   "language": "python",
   "name": "python3"
  },
  "language_info": {
   "codemirror_mode": {
    "name": "ipython",
    "version": 3
   },
   "file_extension": ".py",
   "mimetype": "text/x-python",
   "name": "python",
   "nbconvert_exporter": "python",
   "pygments_lexer": "ipython3",
   "version": "3.9.13"
  }
 },
 "nbformat": 4,
 "nbformat_minor": 5
}
