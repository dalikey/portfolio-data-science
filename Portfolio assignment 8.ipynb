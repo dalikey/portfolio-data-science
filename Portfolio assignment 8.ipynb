{
 "cells": [
  {
   "cell_type": "code",
   "execution_count": 66,
   "id": "21f89204",
   "metadata": {},
   "outputs": [],
   "source": [
    "import pandas as pd"
   ]
  },
  {
   "cell_type": "code",
   "execution_count": 67,
   "id": "f13170e0",
   "metadata": {},
   "outputs": [],
   "source": [
    "df = pd.read_csv('movies.csv', sep=';', thousands=',')"
   ]
  },
  {
   "cell_type": "code",
   "execution_count": 68,
   "id": "12dc5835",
   "metadata": {},
   "outputs": [
    {
     "data": {
      "text/html": [
       "<div>\n",
       "<style scoped>\n",
       "    .dataframe tbody tr th:only-of-type {\n",
       "        vertical-align: middle;\n",
       "    }\n",
       "\n",
       "    .dataframe tbody tr th {\n",
       "        vertical-align: top;\n",
       "    }\n",
       "\n",
       "    .dataframe thead th {\n",
       "        text-align: right;\n",
       "    }\n",
       "</style>\n",
       "<table border=\"1\" class=\"dataframe\">\n",
       "  <thead>\n",
       "    <tr style=\"text-align: right;\">\n",
       "      <th></th>\n",
       "      <th>index</th>\n",
       "      <th>movie_name</th>\n",
       "      <th>year_of_release</th>\n",
       "      <th>category</th>\n",
       "      <th>run_time</th>\n",
       "      <th>genre</th>\n",
       "      <th>imdb_rating</th>\n",
       "      <th>votes</th>\n",
       "      <th>gross_total</th>\n",
       "    </tr>\n",
       "  </thead>\n",
       "  <tbody>\n",
       "    <tr>\n",
       "      <th>0</th>\n",
       "      <td>1.0</td>\n",
       "      <td>The Godfather</td>\n",
       "      <td>1972</td>\n",
       "      <td>R</td>\n",
       "      <td>175 min</td>\n",
       "      <td>Comedy</td>\n",
       "      <td>9.2</td>\n",
       "      <td>1860471</td>\n",
       "      <td>$134.97M</td>\n",
       "    </tr>\n",
       "    <tr>\n",
       "      <th>1</th>\n",
       "      <td>2.0</td>\n",
       "      <td>The Silence of the Lambs</td>\n",
       "      <td>1991</td>\n",
       "      <td>R</td>\n",
       "      <td>118 min</td>\n",
       "      <td>Crime</td>\n",
       "      <td>8.6</td>\n",
       "      <td>1435344</td>\n",
       "      <td>$130.74M</td>\n",
       "    </tr>\n",
       "    <tr>\n",
       "      <th>2</th>\n",
       "      <td>3.0</td>\n",
       "      <td>Star Wars: Episode V - The Empire Strikes Back</td>\n",
       "      <td>1980</td>\n",
       "      <td>PG</td>\n",
       "      <td>124 min</td>\n",
       "      <td>Fantasy</td>\n",
       "      <td>8.7</td>\n",
       "      <td>1294805</td>\n",
       "      <td>$290.48M</td>\n",
       "    </tr>\n",
       "    <tr>\n",
       "      <th>3</th>\n",
       "      <td>4.0</td>\n",
       "      <td>The Shawshank Redemption</td>\n",
       "      <td>1994</td>\n",
       "      <td>R</td>\n",
       "      <td>142 min</td>\n",
       "      <td>Drama</td>\n",
       "      <td>9.3</td>\n",
       "      <td>2683302</td>\n",
       "      <td>$28.34M</td>\n",
       "    </tr>\n",
       "    <tr>\n",
       "      <th>4</th>\n",
       "      <td>5.0</td>\n",
       "      <td>The Shining</td>\n",
       "      <td>1980</td>\n",
       "      <td>R</td>\n",
       "      <td>146 min</td>\n",
       "      <td>Horror</td>\n",
       "      <td>8.4</td>\n",
       "      <td>1025560</td>\n",
       "      <td>$44.02M</td>\n",
       "    </tr>\n",
       "  </tbody>\n",
       "</table>\n",
       "</div>"
      ],
      "text/plain": [
       "   index                                      movie_name  year_of_release  \\\n",
       "0    1.0                                   The Godfather             1972   \n",
       "1    2.0                        The Silence of the Lambs             1991   \n",
       "2    3.0  Star Wars: Episode V - The Empire Strikes Back             1980   \n",
       "3    4.0                        The Shawshank Redemption             1994   \n",
       "4    5.0                                     The Shining             1980   \n",
       "\n",
       "  category run_time    genre  imdb_rating    votes gross_total  \n",
       "0        R  175 min   Comedy          9.2  1860471    $134.97M  \n",
       "1        R  118 min    Crime          8.6  1435344    $130.74M  \n",
       "2       PG  124 min  Fantasy          8.7  1294805    $290.48M  \n",
       "3        R  142 min    Drama          9.3  2683302     $28.34M  \n",
       "4        R  146 min   Horror          8.4  1025560     $44.02M  "
      ]
     },
     "execution_count": 68,
     "metadata": {},
     "output_type": "execute_result"
    }
   ],
   "source": [
    "df.head()"
   ]
  },
  {
   "cell_type": "code",
   "execution_count": 69,
   "id": "c959337b",
   "metadata": {},
   "outputs": [
    {
     "name": "stdout",
     "output_type": "stream",
     "text": [
      "<class 'pandas.core.frame.DataFrame'>\n",
      "RangeIndex: 100 entries, 0 to 99\n",
      "Data columns (total 9 columns):\n",
      " #   Column           Non-Null Count  Dtype  \n",
      "---  ------           --------------  -----  \n",
      " 0   index            100 non-null    float64\n",
      " 1   movie_name       100 non-null    object \n",
      " 2   year_of_release  100 non-null    int64  \n",
      " 3   category         100 non-null    object \n",
      " 4   run_time         100 non-null    object \n",
      " 5   genre            100 non-null    object \n",
      " 6   imdb_rating      100 non-null    float64\n",
      " 7   votes            100 non-null    int64  \n",
      " 8   gross_total      99 non-null     object \n",
      "dtypes: float64(2), int64(2), object(5)\n",
      "memory usage: 7.2+ KB\n"
     ]
    }
   ],
   "source": [
    "df.info()"
   ]
  },
  {
   "cell_type": "code",
   "execution_count": 70,
   "id": "4d3e57a2",
   "metadata": {},
   "outputs": [],
   "source": [
    "import scipy.stats as st"
   ]
  },
  {
   "cell_type": "code",
   "execution_count": 71,
   "id": "8daf4cc3",
   "metadata": {},
   "outputs": [
    {
     "data": {
      "text/plain": [
       "(8.29446038087399, 8.419539619126013)"
      ]
     },
     "execution_count": 71,
     "metadata": {},
     "output_type": "execute_result"
    }
   ],
   "source": [
    "confidence = 0.90\n",
    "st.t.interval(confidence, len(df['imdb_rating'])-1, loc=df['imdb_rating'].mean(), scale=st.sem(df['imdb_rating']))"
   ]
  },
  {
   "cell_type": "code",
   "execution_count": 72,
   "id": "5a0ab1d4",
   "metadata": {},
   "outputs": [
    {
     "data": {
      "text/plain": [
       "(8.2822632899407, 8.431736710059303)"
      ]
     },
     "execution_count": 72,
     "metadata": {},
     "output_type": "execute_result"
    }
   ],
   "source": [
    "confidence = 0.95\n",
    "st.t.interval(confidence, len(df['imdb_rating'])-1, loc=df['imdb_rating'].mean(), scale=st.sem(df['imdb_rating']))"
   ]
  },
  {
   "cell_type": "code",
   "execution_count": 73,
   "id": "eeb6f6a9",
   "metadata": {},
   "outputs": [
    {
     "data": {
      "text/plain": [
       "(8.25807487845884, 8.455925121541162)"
      ]
     },
     "execution_count": 73,
     "metadata": {},
     "output_type": "execute_result"
    }
   ],
   "source": [
    "confidence = 0.99\n",
    "st.t.interval(confidence, len(df['imdb_rating'])-1, loc=df['imdb_rating'].mean(), scale=st.sem(df['imdb_rating']))"
   ]
  },
  {
   "cell_type": "code",
   "execution_count": 74,
   "id": "c14ca3bd",
   "metadata": {
    "scrolled": true
   },
   "outputs": [
    {
     "data": {
      "text/plain": [
       "(8.204264460487883, 8.50973553951212)"
      ]
     },
     "execution_count": 74,
     "metadata": {},
     "output_type": "execute_result"
    }
   ],
   "source": [
    "confidence = 0.9999\n",
    "st.t.interval(confidence, len(df['imdb_rating'])-1, loc=df['imdb_rating'].mean(), scale=st.sem(df['imdb_rating']))"
   ]
  },
  {
   "cell_type": "code",
   "execution_count": 75,
   "id": "4c92cf4e",
   "metadata": {},
   "outputs": [],
   "source": [
    "# The higher the confidence, the lower the lower bound of the interval, and the higher the upper bound of the interval."
   ]
  },
  {
   "cell_type": "code",
   "execution_count": 76,
   "id": "2daf7ad0",
   "metadata": {},
   "outputs": [
    {
     "data": {
      "text/plain": [
       "(815627.9266419905, 1013686.1533580095)"
      ]
     },
     "execution_count": 76,
     "metadata": {},
     "output_type": "execute_result"
    }
   ],
   "source": [
    "confidence = 0.90\n",
    "st.t.interval(confidence, len(df['votes'])-1, loc=df['votes'].mean(), scale=st.sem(df['votes']))"
   ]
  },
  {
   "cell_type": "code",
   "execution_count": 77,
   "id": "61a2cd96",
   "metadata": {},
   "outputs": [
    {
     "data": {
      "text/plain": [
       "(796314.2960578825, 1032999.7839421176)"
      ]
     },
     "execution_count": 77,
     "metadata": {},
     "output_type": "execute_result"
    }
   ],
   "source": [
    "confidence = 0.95\n",
    "st.t.interval(confidence, len(df['votes'])-1, loc=df['votes'].mean(), scale=st.sem(df['votes']))"
   ]
  },
  {
   "cell_type": "code",
   "execution_count": 78,
   "id": "f2798f71",
   "metadata": {},
   "outputs": [
    {
     "data": {
      "text/plain": [
       "(758012.8644843912, 1071301.215515609)"
      ]
     },
     "execution_count": 78,
     "metadata": {},
     "output_type": "execute_result"
    }
   ],
   "source": [
    "confidence = 0.99\n",
    "st.t.interval(confidence, len(df['votes'])-1, loc=df['votes'].mean(), scale=st.sem(df['votes']))"
   ]
  },
  {
   "cell_type": "code",
   "execution_count": 79,
   "id": "59cb3986",
   "metadata": {},
   "outputs": [
    {
     "data": {
      "text/plain": [
       "(672806.1098613625, 1156507.9701386376)"
      ]
     },
     "execution_count": 79,
     "metadata": {},
     "output_type": "execute_result"
    }
   ],
   "source": [
    "confidence = 0.9999\n",
    "st.t.interval(confidence, len(df['votes'])-1, loc=df['votes'].mean(), scale=st.sem(df['votes']))"
   ]
  },
  {
   "cell_type": "code",
   "execution_count": 80,
   "id": "128f2173",
   "metadata": {},
   "outputs": [],
   "source": [
    "# The higher the confidence, the lower the lower bound of the interval, and the higher the upper bound of the interval."
   ]
  },
  {
   "cell_type": "code",
   "execution_count": 81,
   "id": "a929e619",
   "metadata": {},
   "outputs": [
    {
     "data": {
      "text/html": [
       "<div>\n",
       "<style scoped>\n",
       "    .dataframe tbody tr th:only-of-type {\n",
       "        vertical-align: middle;\n",
       "    }\n",
       "\n",
       "    .dataframe tbody tr th {\n",
       "        vertical-align: top;\n",
       "    }\n",
       "\n",
       "    .dataframe thead th {\n",
       "        text-align: right;\n",
       "    }\n",
       "</style>\n",
       "<table border=\"1\" class=\"dataframe\">\n",
       "  <thead>\n",
       "    <tr style=\"text-align: right;\">\n",
       "      <th></th>\n",
       "      <th>index</th>\n",
       "      <th>movie_name</th>\n",
       "      <th>year_of_release</th>\n",
       "      <th>category</th>\n",
       "      <th>run_time</th>\n",
       "      <th>genre</th>\n",
       "      <th>imdb_rating</th>\n",
       "      <th>votes</th>\n",
       "      <th>gross_total</th>\n",
       "    </tr>\n",
       "  </thead>\n",
       "  <tbody>\n",
       "    <tr>\n",
       "      <th>0</th>\n",
       "      <td>1.0</td>\n",
       "      <td>The Godfather</td>\n",
       "      <td>1972</td>\n",
       "      <td>R</td>\n",
       "      <td>175 min</td>\n",
       "      <td>Comedy</td>\n",
       "      <td>9.2</td>\n",
       "      <td>1860471</td>\n",
       "      <td>$134.97M</td>\n",
       "    </tr>\n",
       "    <tr>\n",
       "      <th>1</th>\n",
       "      <td>2.0</td>\n",
       "      <td>The Silence of the Lambs</td>\n",
       "      <td>1991</td>\n",
       "      <td>R</td>\n",
       "      <td>118 min</td>\n",
       "      <td>Crime</td>\n",
       "      <td>8.6</td>\n",
       "      <td>1435344</td>\n",
       "      <td>$130.74M</td>\n",
       "    </tr>\n",
       "    <tr>\n",
       "      <th>2</th>\n",
       "      <td>3.0</td>\n",
       "      <td>Star Wars: Episode V - The Empire Strikes Back</td>\n",
       "      <td>1980</td>\n",
       "      <td>PG</td>\n",
       "      <td>124 min</td>\n",
       "      <td>Fantasy</td>\n",
       "      <td>8.7</td>\n",
       "      <td>1294805</td>\n",
       "      <td>$290.48M</td>\n",
       "    </tr>\n",
       "    <tr>\n",
       "      <th>3</th>\n",
       "      <td>4.0</td>\n",
       "      <td>The Shawshank Redemption</td>\n",
       "      <td>1994</td>\n",
       "      <td>R</td>\n",
       "      <td>142 min</td>\n",
       "      <td>Drama</td>\n",
       "      <td>9.3</td>\n",
       "      <td>2683302</td>\n",
       "      <td>$28.34M</td>\n",
       "    </tr>\n",
       "    <tr>\n",
       "      <th>4</th>\n",
       "      <td>5.0</td>\n",
       "      <td>The Shining</td>\n",
       "      <td>1980</td>\n",
       "      <td>R</td>\n",
       "      <td>146 min</td>\n",
       "      <td>Horror</td>\n",
       "      <td>8.4</td>\n",
       "      <td>1025560</td>\n",
       "      <td>$44.02M</td>\n",
       "    </tr>\n",
       "    <tr>\n",
       "      <th>5</th>\n",
       "      <td>6.0</td>\n",
       "      <td>Casablanca</td>\n",
       "      <td>1942</td>\n",
       "      <td>PG</td>\n",
       "      <td>102 min</td>\n",
       "      <td>Romance</td>\n",
       "      <td>8.5</td>\n",
       "      <td>574092</td>\n",
       "      <td>$1.02M</td>\n",
       "    </tr>\n",
       "    <tr>\n",
       "      <th>6</th>\n",
       "      <td>7.0</td>\n",
       "      <td>One Flew Over the Cuckoo's Nest</td>\n",
       "      <td>1975</td>\n",
       "      <td>R</td>\n",
       "      <td>133 min</td>\n",
       "      <td>Action</td>\n",
       "      <td>8.7</td>\n",
       "      <td>1010102</td>\n",
       "      <td>$112.00M</td>\n",
       "    </tr>\n",
       "    <tr>\n",
       "      <th>7</th>\n",
       "      <td>8.0</td>\n",
       "      <td>Indiana Jones and the Raiders of the Lost Ark</td>\n",
       "      <td>1981</td>\n",
       "      <td>PG</td>\n",
       "      <td>115 min</td>\n",
       "      <td>Adventure</td>\n",
       "      <td>8.4</td>\n",
       "      <td>969143</td>\n",
       "      <td>$248.16M</td>\n",
       "    </tr>\n",
       "    <tr>\n",
       "      <th>8</th>\n",
       "      <td>9.0</td>\n",
       "      <td>The Lord of the Rings: The Return of the King</td>\n",
       "      <td>2003</td>\n",
       "      <td>PG-13</td>\n",
       "      <td>201 min</td>\n",
       "      <td>Adventure</td>\n",
       "      <td>9.0</td>\n",
       "      <td>1849082</td>\n",
       "      <td>$377.85M</td>\n",
       "    </tr>\n",
       "    <tr>\n",
       "      <th>9</th>\n",
       "      <td>10.0</td>\n",
       "      <td>Star Wars: Episode IV - A New Hope</td>\n",
       "      <td>1975</td>\n",
       "      <td>PG</td>\n",
       "      <td>121 min</td>\n",
       "      <td>Fantasy</td>\n",
       "      <td>8.6</td>\n",
       "      <td>1367430</td>\n",
       "      <td>$322.74M</td>\n",
       "    </tr>\n",
       "  </tbody>\n",
       "</table>\n",
       "</div>"
      ],
      "text/plain": [
       "   index                                      movie_name  year_of_release  \\\n",
       "0    1.0                                   The Godfather             1972   \n",
       "1    2.0                        The Silence of the Lambs             1991   \n",
       "2    3.0  Star Wars: Episode V - The Empire Strikes Back             1980   \n",
       "3    4.0                        The Shawshank Redemption             1994   \n",
       "4    5.0                                     The Shining             1980   \n",
       "5    6.0                                      Casablanca             1942   \n",
       "6    7.0                 One Flew Over the Cuckoo's Nest             1975   \n",
       "7    8.0   Indiana Jones and the Raiders of the Lost Ark             1981   \n",
       "8    9.0   The Lord of the Rings: The Return of the King             2003   \n",
       "9   10.0              Star Wars: Episode IV - A New Hope             1975   \n",
       "\n",
       "  category run_time      genre  imdb_rating    votes gross_total  \n",
       "0        R  175 min     Comedy          9.2  1860471    $134.97M  \n",
       "1        R  118 min      Crime          8.6  1435344    $130.74M  \n",
       "2       PG  124 min    Fantasy          8.7  1294805    $290.48M  \n",
       "3        R  142 min      Drama          9.3  2683302     $28.34M  \n",
       "4        R  146 min     Horror          8.4  1025560     $44.02M  \n",
       "5       PG  102 min    Romance          8.5   574092      $1.02M  \n",
       "6        R  133 min     Action          8.7  1010102    $112.00M  \n",
       "7       PG  115 min  Adventure          8.4   969143    $248.16M  \n",
       "8    PG-13  201 min  Adventure          9.0  1849082    $377.85M  \n",
       "9       PG  121 min    Fantasy          8.6  1367430    $322.74M  "
      ]
     },
     "execution_count": 81,
     "metadata": {},
     "output_type": "execute_result"
    }
   ],
   "source": [
    "tenPercentLength = int(len(df['imdb_rating'])*0.1)\n",
    "tenPercentRows = df.iloc[:tenPercentLength]\n",
    "tenPercentRows"
   ]
  },
  {
   "cell_type": "code",
   "execution_count": 82,
   "id": "a8ba4fe6",
   "metadata": {
    "scrolled": true
   },
   "outputs": [
    {
     "data": {
      "text/plain": [
       "(8.510787918518412, 8.969212081481585)"
      ]
     },
     "execution_count": 82,
     "metadata": {},
     "output_type": "execute_result"
    }
   ],
   "source": [
    "confidence = 0.95\n",
    "st.t.interval(confidence, len(tenPercentRows['imdb_rating'])-1, loc=tenPercentRows['imdb_rating'].mean(), scale=st.sem(tenPercentRows['imdb_rating']))"
   ]
  },
  {
   "cell_type": "code",
   "execution_count": 85,
   "id": "9a9d8448",
   "metadata": {},
   "outputs": [],
   "source": [
    "# Previous output: (8.2822632899407, 8.431736710059303)\n",
    "# Current: (8.510787918518412, 8.969212081481585)\n",
    "# A little, but since these numbers are only from 1 to 10, the difference will not be great."
   ]
  },
  {
   "cell_type": "code",
   "execution_count": 83,
   "id": "26ecd809",
   "metadata": {},
   "outputs": [
    {
     "data": {
      "text/html": [
       "<div>\n",
       "<style scoped>\n",
       "    .dataframe tbody tr th:only-of-type {\n",
       "        vertical-align: middle;\n",
       "    }\n",
       "\n",
       "    .dataframe tbody tr th {\n",
       "        vertical-align: top;\n",
       "    }\n",
       "\n",
       "    .dataframe thead th {\n",
       "        text-align: right;\n",
       "    }\n",
       "</style>\n",
       "<table border=\"1\" class=\"dataframe\">\n",
       "  <thead>\n",
       "    <tr style=\"text-align: right;\">\n",
       "      <th></th>\n",
       "      <th>index</th>\n",
       "      <th>movie_name</th>\n",
       "      <th>year_of_release</th>\n",
       "      <th>category</th>\n",
       "      <th>run_time</th>\n",
       "      <th>genre</th>\n",
       "      <th>imdb_rating</th>\n",
       "      <th>votes</th>\n",
       "      <th>gross_total</th>\n",
       "    </tr>\n",
       "  </thead>\n",
       "  <tbody>\n",
       "    <tr>\n",
       "      <th>0</th>\n",
       "      <td>1.0</td>\n",
       "      <td>The Godfather</td>\n",
       "      <td>1972</td>\n",
       "      <td>R</td>\n",
       "      <td>175 min</td>\n",
       "      <td>Comedy</td>\n",
       "      <td>9.2</td>\n",
       "      <td>1860471</td>\n",
       "      <td>$134.97M</td>\n",
       "    </tr>\n",
       "    <tr>\n",
       "      <th>1</th>\n",
       "      <td>2.0</td>\n",
       "      <td>The Silence of the Lambs</td>\n",
       "      <td>1991</td>\n",
       "      <td>R</td>\n",
       "      <td>118 min</td>\n",
       "      <td>Crime</td>\n",
       "      <td>8.6</td>\n",
       "      <td>1435344</td>\n",
       "      <td>$130.74M</td>\n",
       "    </tr>\n",
       "    <tr>\n",
       "      <th>2</th>\n",
       "      <td>3.0</td>\n",
       "      <td>Star Wars: Episode V - The Empire Strikes Back</td>\n",
       "      <td>1980</td>\n",
       "      <td>PG</td>\n",
       "      <td>124 min</td>\n",
       "      <td>Fantasy</td>\n",
       "      <td>8.7</td>\n",
       "      <td>1294805</td>\n",
       "      <td>$290.48M</td>\n",
       "    </tr>\n",
       "    <tr>\n",
       "      <th>3</th>\n",
       "      <td>4.0</td>\n",
       "      <td>The Shawshank Redemption</td>\n",
       "      <td>1994</td>\n",
       "      <td>R</td>\n",
       "      <td>142 min</td>\n",
       "      <td>Drama</td>\n",
       "      <td>9.3</td>\n",
       "      <td>2683302</td>\n",
       "      <td>$28.34M</td>\n",
       "    </tr>\n",
       "    <tr>\n",
       "      <th>4</th>\n",
       "      <td>5.0</td>\n",
       "      <td>The Shining</td>\n",
       "      <td>1980</td>\n",
       "      <td>R</td>\n",
       "      <td>146 min</td>\n",
       "      <td>Horror</td>\n",
       "      <td>8.4</td>\n",
       "      <td>1025560</td>\n",
       "      <td>$44.02M</td>\n",
       "    </tr>\n",
       "    <tr>\n",
       "      <th>5</th>\n",
       "      <td>6.0</td>\n",
       "      <td>Casablanca</td>\n",
       "      <td>1942</td>\n",
       "      <td>PG</td>\n",
       "      <td>102 min</td>\n",
       "      <td>Romance</td>\n",
       "      <td>8.5</td>\n",
       "      <td>574092</td>\n",
       "      <td>$1.02M</td>\n",
       "    </tr>\n",
       "    <tr>\n",
       "      <th>6</th>\n",
       "      <td>7.0</td>\n",
       "      <td>One Flew Over the Cuckoo's Nest</td>\n",
       "      <td>1975</td>\n",
       "      <td>R</td>\n",
       "      <td>133 min</td>\n",
       "      <td>Action</td>\n",
       "      <td>8.7</td>\n",
       "      <td>1010102</td>\n",
       "      <td>$112.00M</td>\n",
       "    </tr>\n",
       "    <tr>\n",
       "      <th>7</th>\n",
       "      <td>8.0</td>\n",
       "      <td>Indiana Jones and the Raiders of the Lost Ark</td>\n",
       "      <td>1981</td>\n",
       "      <td>PG</td>\n",
       "      <td>115 min</td>\n",
       "      <td>Adventure</td>\n",
       "      <td>8.4</td>\n",
       "      <td>969143</td>\n",
       "      <td>$248.16M</td>\n",
       "    </tr>\n",
       "    <tr>\n",
       "      <th>8</th>\n",
       "      <td>9.0</td>\n",
       "      <td>The Lord of the Rings: The Return of the King</td>\n",
       "      <td>2003</td>\n",
       "      <td>PG-13</td>\n",
       "      <td>201 min</td>\n",
       "      <td>Adventure</td>\n",
       "      <td>9.0</td>\n",
       "      <td>1849082</td>\n",
       "      <td>$377.85M</td>\n",
       "    </tr>\n",
       "    <tr>\n",
       "      <th>9</th>\n",
       "      <td>10.0</td>\n",
       "      <td>Star Wars: Episode IV - A New Hope</td>\n",
       "      <td>1975</td>\n",
       "      <td>PG</td>\n",
       "      <td>121 min</td>\n",
       "      <td>Fantasy</td>\n",
       "      <td>8.6</td>\n",
       "      <td>1367430</td>\n",
       "      <td>$322.74M</td>\n",
       "    </tr>\n",
       "  </tbody>\n",
       "</table>\n",
       "</div>"
      ],
      "text/plain": [
       "   index                                      movie_name  year_of_release  \\\n",
       "0    1.0                                   The Godfather             1972   \n",
       "1    2.0                        The Silence of the Lambs             1991   \n",
       "2    3.0  Star Wars: Episode V - The Empire Strikes Back             1980   \n",
       "3    4.0                        The Shawshank Redemption             1994   \n",
       "4    5.0                                     The Shining             1980   \n",
       "5    6.0                                      Casablanca             1942   \n",
       "6    7.0                 One Flew Over the Cuckoo's Nest             1975   \n",
       "7    8.0   Indiana Jones and the Raiders of the Lost Ark             1981   \n",
       "8    9.0   The Lord of the Rings: The Return of the King             2003   \n",
       "9   10.0              Star Wars: Episode IV - A New Hope             1975   \n",
       "\n",
       "  category run_time      genre  imdb_rating    votes gross_total  \n",
       "0        R  175 min     Comedy          9.2  1860471    $134.97M  \n",
       "1        R  118 min      Crime          8.6  1435344    $130.74M  \n",
       "2       PG  124 min    Fantasy          8.7  1294805    $290.48M  \n",
       "3        R  142 min      Drama          9.3  2683302     $28.34M  \n",
       "4        R  146 min     Horror          8.4  1025560     $44.02M  \n",
       "5       PG  102 min    Romance          8.5   574092      $1.02M  \n",
       "6        R  133 min     Action          8.7  1010102    $112.00M  \n",
       "7       PG  115 min  Adventure          8.4   969143    $248.16M  \n",
       "8    PG-13  201 min  Adventure          9.0  1849082    $377.85M  \n",
       "9       PG  121 min    Fantasy          8.6  1367430    $322.74M  "
      ]
     },
     "execution_count": 83,
     "metadata": {},
     "output_type": "execute_result"
    }
   ],
   "source": [
    "tenPercentLength = int(len(df['votes'])*0.1)\n",
    "tenPercentRows = df.iloc[:tenPercentLength]\n",
    "tenPercentRows"
   ]
  },
  {
   "cell_type": "code",
   "execution_count": 84,
   "id": "1865d2b7",
   "metadata": {},
   "outputs": [
    {
     "data": {
      "text/plain": [
       "(978152.6909264841, 1835713.5090735161)"
      ]
     },
     "execution_count": 84,
     "metadata": {},
     "output_type": "execute_result"
    }
   ],
   "source": [
    "confidence = 0.95\n",
    "st.t.interval(confidence, len(tenPercentRows['votes'])-1, loc=tenPercentRows['votes'].mean(), scale=st.sem(tenPercentRows['votes']))"
   ]
  },
  {
   "cell_type": "code",
   "execution_count": null,
   "id": "393190a3",
   "metadata": {},
   "outputs": [],
   "source": [
    "# Previous output: (796314.2960578825, 1032999.7839421176)\n",
    "# Current: (978152.6909264841, 1835713.5090735161)\n",
    "# Yes, the more data and differences between values, the greater the effect on the confidence interval."
   ]
  }
 ],
 "metadata": {
  "kernelspec": {
   "display_name": "Python 3 (ipykernel)",
   "language": "python",
   "name": "python3"
  },
  "language_info": {
   "codemirror_mode": {
    "name": "ipython",
    "version": 3
   },
   "file_extension": ".py",
   "mimetype": "text/x-python",
   "name": "python",
   "nbconvert_exporter": "python",
   "pygments_lexer": "ipython3",
   "version": "3.9.13"
  }
 },
 "nbformat": 4,
 "nbformat_minor": 5
}
